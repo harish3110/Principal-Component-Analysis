{
 "cells": [
  {
   "cell_type": "markdown",
   "metadata": {},
   "source": [
    "---\n",
    "# Unsupervised Learning - Principal Component Analysis:\n",
    "---"
   ]
  },
  {
   "cell_type": "markdown",
   "metadata": {},
   "source": [
    "## Wine Dataset Analysis:"
   ]
  },
  {
   "cell_type": "code",
   "execution_count": 1,
   "metadata": {},
   "outputs": [],
   "source": [
    "import matplotlib.pyplot as plt\n",
    "import seaborn as sns\n",
    "import numpy as np\n",
    "import pandas as pd\n",
    "%matplotlib inline"
   ]
  },
  {
   "cell_type": "code",
   "execution_count": 2,
   "metadata": {},
   "outputs": [
    {
     "data": {
      "text/html": [
       "<div>\n",
       "<style scoped>\n",
       "    .dataframe tbody tr th:only-of-type {\n",
       "        vertical-align: middle;\n",
       "    }\n",
       "\n",
       "    .dataframe tbody tr th {\n",
       "        vertical-align: top;\n",
       "    }\n",
       "\n",
       "    .dataframe thead th {\n",
       "        text-align: right;\n",
       "    }\n",
       "</style>\n",
       "<table border=\"1\" class=\"dataframe\">\n",
       "  <thead>\n",
       "    <tr style=\"text-align: right;\">\n",
       "      <th></th>\n",
       "      <th>class_label</th>\n",
       "      <th>class_name</th>\n",
       "      <th>alcohol</th>\n",
       "      <th>malic_acid</th>\n",
       "      <th>ash</th>\n",
       "      <th>alcalinity_of_ash</th>\n",
       "      <th>magnesium</th>\n",
       "      <th>total_phenols</th>\n",
       "      <th>flavanoids</th>\n",
       "      <th>nonflavanoid_phenols</th>\n",
       "      <th>proanthocyanins</th>\n",
       "      <th>color_intensity</th>\n",
       "      <th>hue</th>\n",
       "      <th>od280</th>\n",
       "      <th>proline</th>\n",
       "    </tr>\n",
       "  </thead>\n",
       "  <tbody>\n",
       "    <tr>\n",
       "      <th>0</th>\n",
       "      <td>1</td>\n",
       "      <td>Barolo</td>\n",
       "      <td>14.23</td>\n",
       "      <td>1.71</td>\n",
       "      <td>2.43</td>\n",
       "      <td>15.6</td>\n",
       "      <td>127</td>\n",
       "      <td>2.80</td>\n",
       "      <td>3.06</td>\n",
       "      <td>0.28</td>\n",
       "      <td>2.29</td>\n",
       "      <td>5.64</td>\n",
       "      <td>1.04</td>\n",
       "      <td>3.92</td>\n",
       "      <td>1065</td>\n",
       "    </tr>\n",
       "    <tr>\n",
       "      <th>1</th>\n",
       "      <td>1</td>\n",
       "      <td>Barolo</td>\n",
       "      <td>13.20</td>\n",
       "      <td>1.78</td>\n",
       "      <td>2.14</td>\n",
       "      <td>11.2</td>\n",
       "      <td>100</td>\n",
       "      <td>2.65</td>\n",
       "      <td>2.76</td>\n",
       "      <td>0.26</td>\n",
       "      <td>1.28</td>\n",
       "      <td>4.38</td>\n",
       "      <td>1.05</td>\n",
       "      <td>3.40</td>\n",
       "      <td>1050</td>\n",
       "    </tr>\n",
       "    <tr>\n",
       "      <th>2</th>\n",
       "      <td>1</td>\n",
       "      <td>Barolo</td>\n",
       "      <td>13.16</td>\n",
       "      <td>2.36</td>\n",
       "      <td>2.67</td>\n",
       "      <td>18.6</td>\n",
       "      <td>101</td>\n",
       "      <td>2.80</td>\n",
       "      <td>3.24</td>\n",
       "      <td>0.30</td>\n",
       "      <td>2.81</td>\n",
       "      <td>5.68</td>\n",
       "      <td>1.03</td>\n",
       "      <td>3.17</td>\n",
       "      <td>1185</td>\n",
       "    </tr>\n",
       "    <tr>\n",
       "      <th>3</th>\n",
       "      <td>1</td>\n",
       "      <td>Barolo</td>\n",
       "      <td>14.37</td>\n",
       "      <td>1.95</td>\n",
       "      <td>2.50</td>\n",
       "      <td>16.8</td>\n",
       "      <td>113</td>\n",
       "      <td>3.85</td>\n",
       "      <td>3.49</td>\n",
       "      <td>0.24</td>\n",
       "      <td>2.18</td>\n",
       "      <td>7.80</td>\n",
       "      <td>0.86</td>\n",
       "      <td>3.45</td>\n",
       "      <td>1480</td>\n",
       "    </tr>\n",
       "    <tr>\n",
       "      <th>4</th>\n",
       "      <td>1</td>\n",
       "      <td>Barolo</td>\n",
       "      <td>13.24</td>\n",
       "      <td>2.59</td>\n",
       "      <td>2.87</td>\n",
       "      <td>21.0</td>\n",
       "      <td>118</td>\n",
       "      <td>2.80</td>\n",
       "      <td>2.69</td>\n",
       "      <td>0.39</td>\n",
       "      <td>1.82</td>\n",
       "      <td>4.32</td>\n",
       "      <td>1.04</td>\n",
       "      <td>2.93</td>\n",
       "      <td>735</td>\n",
       "    </tr>\n",
       "  </tbody>\n",
       "</table>\n",
       "</div>"
      ],
      "text/plain": [
       "   class_label class_name  alcohol  malic_acid   ash  alcalinity_of_ash  \\\n",
       "0            1     Barolo    14.23        1.71  2.43               15.6   \n",
       "1            1     Barolo    13.20        1.78  2.14               11.2   \n",
       "2            1     Barolo    13.16        2.36  2.67               18.6   \n",
       "3            1     Barolo    14.37        1.95  2.50               16.8   \n",
       "4            1     Barolo    13.24        2.59  2.87               21.0   \n",
       "\n",
       "   magnesium  total_phenols  flavanoids  nonflavanoid_phenols  \\\n",
       "0        127           2.80        3.06                  0.28   \n",
       "1        100           2.65        2.76                  0.26   \n",
       "2        101           2.80        3.24                  0.30   \n",
       "3        113           3.85        3.49                  0.24   \n",
       "4        118           2.80        2.69                  0.39   \n",
       "\n",
       "   proanthocyanins  color_intensity   hue  od280  proline  \n",
       "0             2.29             5.64  1.04   3.92     1065  \n",
       "1             1.28             4.38  1.05   3.40     1050  \n",
       "2             2.81             5.68  1.03   3.17     1185  \n",
       "3             2.18             7.80  0.86   3.45     1480  \n",
       "4             1.82             4.32  1.04   2.93      735  "
      ]
     },
     "execution_count": 2,
     "metadata": {},
     "output_type": "execute_result"
    }
   ],
   "source": [
    "df = pd.read_csv('wine.csv')\n",
    "df.head()"
   ]
  },
  {
   "cell_type": "markdown",
   "metadata": {},
   "source": [
    "---\n",
    "### Null Values Check:"
   ]
  },
  {
   "cell_type": "code",
   "execution_count": 3,
   "metadata": {},
   "outputs": [
    {
     "data": {
      "text/plain": [
       "False"
      ]
     },
     "execution_count": 3,
     "metadata": {},
     "output_type": "execute_result"
    }
   ],
   "source": [
    "# Checking dataset if there are any null values present\n",
    "df.isnull().values.any()"
   ]
  },
  {
   "cell_type": "markdown",
   "metadata": {},
   "source": [
    "##### There are no null or missing values in the above dataset.\n",
    "---"
   ]
  },
  {
   "cell_type": "code",
   "execution_count": 4,
   "metadata": {},
   "outputs": [
    {
     "data": {
      "text/html": [
       "<div>\n",
       "<style scoped>\n",
       "    .dataframe tbody tr th:only-of-type {\n",
       "        vertical-align: middle;\n",
       "    }\n",
       "\n",
       "    .dataframe tbody tr th {\n",
       "        vertical-align: top;\n",
       "    }\n",
       "\n",
       "    .dataframe thead th {\n",
       "        text-align: right;\n",
       "    }\n",
       "</style>\n",
       "<table border=\"1\" class=\"dataframe\">\n",
       "  <thead>\n",
       "    <tr style=\"text-align: right;\">\n",
       "      <th></th>\n",
       "      <th>class_label</th>\n",
       "      <th>alcohol</th>\n",
       "      <th>malic_acid</th>\n",
       "      <th>ash</th>\n",
       "      <th>alcalinity_of_ash</th>\n",
       "      <th>magnesium</th>\n",
       "      <th>total_phenols</th>\n",
       "      <th>flavanoids</th>\n",
       "      <th>nonflavanoid_phenols</th>\n",
       "      <th>proanthocyanins</th>\n",
       "      <th>color_intensity</th>\n",
       "      <th>hue</th>\n",
       "      <th>od280</th>\n",
       "      <th>proline</th>\n",
       "    </tr>\n",
       "  </thead>\n",
       "  <tbody>\n",
       "    <tr>\n",
       "      <th>class_label</th>\n",
       "      <td>1.000000</td>\n",
       "      <td>-0.328222</td>\n",
       "      <td>0.437776</td>\n",
       "      <td>-0.049643</td>\n",
       "      <td>0.517859</td>\n",
       "      <td>-0.209179</td>\n",
       "      <td>-0.719163</td>\n",
       "      <td>-0.847498</td>\n",
       "      <td>0.489109</td>\n",
       "      <td>-0.499130</td>\n",
       "      <td>0.265668</td>\n",
       "      <td>-0.617369</td>\n",
       "      <td>-0.788230</td>\n",
       "      <td>-0.633717</td>\n",
       "    </tr>\n",
       "    <tr>\n",
       "      <th>alcohol</th>\n",
       "      <td>-0.328222</td>\n",
       "      <td>1.000000</td>\n",
       "      <td>0.094397</td>\n",
       "      <td>0.211545</td>\n",
       "      <td>-0.310235</td>\n",
       "      <td>0.270798</td>\n",
       "      <td>0.289101</td>\n",
       "      <td>0.236815</td>\n",
       "      <td>-0.155929</td>\n",
       "      <td>0.136698</td>\n",
       "      <td>0.546364</td>\n",
       "      <td>-0.071747</td>\n",
       "      <td>0.072343</td>\n",
       "      <td>0.643720</td>\n",
       "    </tr>\n",
       "    <tr>\n",
       "      <th>malic_acid</th>\n",
       "      <td>0.437776</td>\n",
       "      <td>0.094397</td>\n",
       "      <td>1.000000</td>\n",
       "      <td>0.164045</td>\n",
       "      <td>0.288500</td>\n",
       "      <td>-0.054575</td>\n",
       "      <td>-0.335167</td>\n",
       "      <td>-0.411007</td>\n",
       "      <td>0.292977</td>\n",
       "      <td>-0.220746</td>\n",
       "      <td>0.248985</td>\n",
       "      <td>-0.561296</td>\n",
       "      <td>-0.368710</td>\n",
       "      <td>-0.192011</td>\n",
       "    </tr>\n",
       "    <tr>\n",
       "      <th>ash</th>\n",
       "      <td>-0.049643</td>\n",
       "      <td>0.211545</td>\n",
       "      <td>0.164045</td>\n",
       "      <td>1.000000</td>\n",
       "      <td>0.443367</td>\n",
       "      <td>0.286587</td>\n",
       "      <td>0.128980</td>\n",
       "      <td>0.115077</td>\n",
       "      <td>0.186230</td>\n",
       "      <td>0.009652</td>\n",
       "      <td>0.258887</td>\n",
       "      <td>-0.074667</td>\n",
       "      <td>0.003911</td>\n",
       "      <td>0.223626</td>\n",
       "    </tr>\n",
       "    <tr>\n",
       "      <th>alcalinity_of_ash</th>\n",
       "      <td>0.517859</td>\n",
       "      <td>-0.310235</td>\n",
       "      <td>0.288500</td>\n",
       "      <td>0.443367</td>\n",
       "      <td>1.000000</td>\n",
       "      <td>-0.083333</td>\n",
       "      <td>-0.321113</td>\n",
       "      <td>-0.351370</td>\n",
       "      <td>0.361922</td>\n",
       "      <td>-0.197327</td>\n",
       "      <td>0.018732</td>\n",
       "      <td>-0.273955</td>\n",
       "      <td>-0.276769</td>\n",
       "      <td>-0.440597</td>\n",
       "    </tr>\n",
       "    <tr>\n",
       "      <th>magnesium</th>\n",
       "      <td>-0.209179</td>\n",
       "      <td>0.270798</td>\n",
       "      <td>-0.054575</td>\n",
       "      <td>0.286587</td>\n",
       "      <td>-0.083333</td>\n",
       "      <td>1.000000</td>\n",
       "      <td>0.214401</td>\n",
       "      <td>0.195784</td>\n",
       "      <td>-0.256294</td>\n",
       "      <td>0.236441</td>\n",
       "      <td>0.199950</td>\n",
       "      <td>0.055398</td>\n",
       "      <td>0.066004</td>\n",
       "      <td>0.393351</td>\n",
       "    </tr>\n",
       "    <tr>\n",
       "      <th>total_phenols</th>\n",
       "      <td>-0.719163</td>\n",
       "      <td>0.289101</td>\n",
       "      <td>-0.335167</td>\n",
       "      <td>0.128980</td>\n",
       "      <td>-0.321113</td>\n",
       "      <td>0.214401</td>\n",
       "      <td>1.000000</td>\n",
       "      <td>0.864564</td>\n",
       "      <td>-0.449935</td>\n",
       "      <td>0.612413</td>\n",
       "      <td>-0.055136</td>\n",
       "      <td>0.433681</td>\n",
       "      <td>0.699949</td>\n",
       "      <td>0.498115</td>\n",
       "    </tr>\n",
       "    <tr>\n",
       "      <th>flavanoids</th>\n",
       "      <td>-0.847498</td>\n",
       "      <td>0.236815</td>\n",
       "      <td>-0.411007</td>\n",
       "      <td>0.115077</td>\n",
       "      <td>-0.351370</td>\n",
       "      <td>0.195784</td>\n",
       "      <td>0.864564</td>\n",
       "      <td>1.000000</td>\n",
       "      <td>-0.537900</td>\n",
       "      <td>0.652692</td>\n",
       "      <td>-0.172379</td>\n",
       "      <td>0.543479</td>\n",
       "      <td>0.787194</td>\n",
       "      <td>0.494193</td>\n",
       "    </tr>\n",
       "    <tr>\n",
       "      <th>nonflavanoid_phenols</th>\n",
       "      <td>0.489109</td>\n",
       "      <td>-0.155929</td>\n",
       "      <td>0.292977</td>\n",
       "      <td>0.186230</td>\n",
       "      <td>0.361922</td>\n",
       "      <td>-0.256294</td>\n",
       "      <td>-0.449935</td>\n",
       "      <td>-0.537900</td>\n",
       "      <td>1.000000</td>\n",
       "      <td>-0.365845</td>\n",
       "      <td>0.139057</td>\n",
       "      <td>-0.262640</td>\n",
       "      <td>-0.503270</td>\n",
       "      <td>-0.311385</td>\n",
       "    </tr>\n",
       "    <tr>\n",
       "      <th>proanthocyanins</th>\n",
       "      <td>-0.499130</td>\n",
       "      <td>0.136698</td>\n",
       "      <td>-0.220746</td>\n",
       "      <td>0.009652</td>\n",
       "      <td>-0.197327</td>\n",
       "      <td>0.236441</td>\n",
       "      <td>0.612413</td>\n",
       "      <td>0.652692</td>\n",
       "      <td>-0.365845</td>\n",
       "      <td>1.000000</td>\n",
       "      <td>-0.025250</td>\n",
       "      <td>0.295544</td>\n",
       "      <td>0.519067</td>\n",
       "      <td>0.330417</td>\n",
       "    </tr>\n",
       "    <tr>\n",
       "      <th>color_intensity</th>\n",
       "      <td>0.265668</td>\n",
       "      <td>0.546364</td>\n",
       "      <td>0.248985</td>\n",
       "      <td>0.258887</td>\n",
       "      <td>0.018732</td>\n",
       "      <td>0.199950</td>\n",
       "      <td>-0.055136</td>\n",
       "      <td>-0.172379</td>\n",
       "      <td>0.139057</td>\n",
       "      <td>-0.025250</td>\n",
       "      <td>1.000000</td>\n",
       "      <td>-0.521813</td>\n",
       "      <td>-0.428815</td>\n",
       "      <td>0.316100</td>\n",
       "    </tr>\n",
       "    <tr>\n",
       "      <th>hue</th>\n",
       "      <td>-0.617369</td>\n",
       "      <td>-0.071747</td>\n",
       "      <td>-0.561296</td>\n",
       "      <td>-0.074667</td>\n",
       "      <td>-0.273955</td>\n",
       "      <td>0.055398</td>\n",
       "      <td>0.433681</td>\n",
       "      <td>0.543479</td>\n",
       "      <td>-0.262640</td>\n",
       "      <td>0.295544</td>\n",
       "      <td>-0.521813</td>\n",
       "      <td>1.000000</td>\n",
       "      <td>0.565468</td>\n",
       "      <td>0.236183</td>\n",
       "    </tr>\n",
       "    <tr>\n",
       "      <th>od280</th>\n",
       "      <td>-0.788230</td>\n",
       "      <td>0.072343</td>\n",
       "      <td>-0.368710</td>\n",
       "      <td>0.003911</td>\n",
       "      <td>-0.276769</td>\n",
       "      <td>0.066004</td>\n",
       "      <td>0.699949</td>\n",
       "      <td>0.787194</td>\n",
       "      <td>-0.503270</td>\n",
       "      <td>0.519067</td>\n",
       "      <td>-0.428815</td>\n",
       "      <td>0.565468</td>\n",
       "      <td>1.000000</td>\n",
       "      <td>0.312761</td>\n",
       "    </tr>\n",
       "    <tr>\n",
       "      <th>proline</th>\n",
       "      <td>-0.633717</td>\n",
       "      <td>0.643720</td>\n",
       "      <td>-0.192011</td>\n",
       "      <td>0.223626</td>\n",
       "      <td>-0.440597</td>\n",
       "      <td>0.393351</td>\n",
       "      <td>0.498115</td>\n",
       "      <td>0.494193</td>\n",
       "      <td>-0.311385</td>\n",
       "      <td>0.330417</td>\n",
       "      <td>0.316100</td>\n",
       "      <td>0.236183</td>\n",
       "      <td>0.312761</td>\n",
       "      <td>1.000000</td>\n",
       "    </tr>\n",
       "  </tbody>\n",
       "</table>\n",
       "</div>"
      ],
      "text/plain": [
       "                      class_label   alcohol  malic_acid       ash  \\\n",
       "class_label              1.000000 -0.328222    0.437776 -0.049643   \n",
       "alcohol                 -0.328222  1.000000    0.094397  0.211545   \n",
       "malic_acid               0.437776  0.094397    1.000000  0.164045   \n",
       "ash                     -0.049643  0.211545    0.164045  1.000000   \n",
       "alcalinity_of_ash        0.517859 -0.310235    0.288500  0.443367   \n",
       "magnesium               -0.209179  0.270798   -0.054575  0.286587   \n",
       "total_phenols           -0.719163  0.289101   -0.335167  0.128980   \n",
       "flavanoids              -0.847498  0.236815   -0.411007  0.115077   \n",
       "nonflavanoid_phenols     0.489109 -0.155929    0.292977  0.186230   \n",
       "proanthocyanins         -0.499130  0.136698   -0.220746  0.009652   \n",
       "color_intensity          0.265668  0.546364    0.248985  0.258887   \n",
       "hue                     -0.617369 -0.071747   -0.561296 -0.074667   \n",
       "od280                   -0.788230  0.072343   -0.368710  0.003911   \n",
       "proline                 -0.633717  0.643720   -0.192011  0.223626   \n",
       "\n",
       "                      alcalinity_of_ash  magnesium  total_phenols  flavanoids  \\\n",
       "class_label                    0.517859  -0.209179      -0.719163   -0.847498   \n",
       "alcohol                       -0.310235   0.270798       0.289101    0.236815   \n",
       "malic_acid                     0.288500  -0.054575      -0.335167   -0.411007   \n",
       "ash                            0.443367   0.286587       0.128980    0.115077   \n",
       "alcalinity_of_ash              1.000000  -0.083333      -0.321113   -0.351370   \n",
       "magnesium                     -0.083333   1.000000       0.214401    0.195784   \n",
       "total_phenols                 -0.321113   0.214401       1.000000    0.864564   \n",
       "flavanoids                    -0.351370   0.195784       0.864564    1.000000   \n",
       "nonflavanoid_phenols           0.361922  -0.256294      -0.449935   -0.537900   \n",
       "proanthocyanins               -0.197327   0.236441       0.612413    0.652692   \n",
       "color_intensity                0.018732   0.199950      -0.055136   -0.172379   \n",
       "hue                           -0.273955   0.055398       0.433681    0.543479   \n",
       "od280                         -0.276769   0.066004       0.699949    0.787194   \n",
       "proline                       -0.440597   0.393351       0.498115    0.494193   \n",
       "\n",
       "                      nonflavanoid_phenols  proanthocyanins  color_intensity  \\\n",
       "class_label                       0.489109        -0.499130         0.265668   \n",
       "alcohol                          -0.155929         0.136698         0.546364   \n",
       "malic_acid                        0.292977        -0.220746         0.248985   \n",
       "ash                               0.186230         0.009652         0.258887   \n",
       "alcalinity_of_ash                 0.361922        -0.197327         0.018732   \n",
       "magnesium                        -0.256294         0.236441         0.199950   \n",
       "total_phenols                    -0.449935         0.612413        -0.055136   \n",
       "flavanoids                       -0.537900         0.652692        -0.172379   \n",
       "nonflavanoid_phenols              1.000000        -0.365845         0.139057   \n",
       "proanthocyanins                  -0.365845         1.000000        -0.025250   \n",
       "color_intensity                   0.139057        -0.025250         1.000000   \n",
       "hue                              -0.262640         0.295544        -0.521813   \n",
       "od280                            -0.503270         0.519067        -0.428815   \n",
       "proline                          -0.311385         0.330417         0.316100   \n",
       "\n",
       "                           hue     od280   proline  \n",
       "class_label          -0.617369 -0.788230 -0.633717  \n",
       "alcohol              -0.071747  0.072343  0.643720  \n",
       "malic_acid           -0.561296 -0.368710 -0.192011  \n",
       "ash                  -0.074667  0.003911  0.223626  \n",
       "alcalinity_of_ash    -0.273955 -0.276769 -0.440597  \n",
       "magnesium             0.055398  0.066004  0.393351  \n",
       "total_phenols         0.433681  0.699949  0.498115  \n",
       "flavanoids            0.543479  0.787194  0.494193  \n",
       "nonflavanoid_phenols -0.262640 -0.503270 -0.311385  \n",
       "proanthocyanins       0.295544  0.519067  0.330417  \n",
       "color_intensity      -0.521813 -0.428815  0.316100  \n",
       "hue                   1.000000  0.565468  0.236183  \n",
       "od280                 0.565468  1.000000  0.312761  \n",
       "proline               0.236183  0.312761  1.000000  "
      ]
     },
     "execution_count": 4,
     "metadata": {},
     "output_type": "execute_result"
    }
   ],
   "source": [
    "# Correlation Matrix\n",
    "df.corr()"
   ]
  },
  {
   "cell_type": "markdown",
   "metadata": {},
   "source": [
    "## Outlier Detection:"
   ]
  },
  {
   "cell_type": "code",
   "execution_count": 5,
   "metadata": {},
   "outputs": [
    {
     "data": {
      "text/html": [
       "<div>\n",
       "<style scoped>\n",
       "    .dataframe tbody tr th:only-of-type {\n",
       "        vertical-align: middle;\n",
       "    }\n",
       "\n",
       "    .dataframe tbody tr th {\n",
       "        vertical-align: top;\n",
       "    }\n",
       "\n",
       "    .dataframe thead th {\n",
       "        text-align: right;\n",
       "    }\n",
       "</style>\n",
       "<table border=\"1\" class=\"dataframe\">\n",
       "  <thead>\n",
       "    <tr style=\"text-align: right;\">\n",
       "      <th></th>\n",
       "      <th>class_label</th>\n",
       "      <th>class_name</th>\n",
       "      <th>alcohol</th>\n",
       "      <th>malic_acid</th>\n",
       "      <th>ash</th>\n",
       "      <th>alcalinity_of_ash</th>\n",
       "      <th>magnesium</th>\n",
       "      <th>total_phenols</th>\n",
       "      <th>flavanoids</th>\n",
       "      <th>nonflavanoid_phenols</th>\n",
       "      <th>proanthocyanins</th>\n",
       "      <th>color_intensity</th>\n",
       "      <th>hue</th>\n",
       "      <th>od280</th>\n",
       "      <th>proline</th>\n",
       "    </tr>\n",
       "  </thead>\n",
       "  <tbody>\n",
       "    <tr>\n",
       "      <th>0</th>\n",
       "      <td>1</td>\n",
       "      <td>Barolo</td>\n",
       "      <td>14.23</td>\n",
       "      <td>1.71</td>\n",
       "      <td>2.43</td>\n",
       "      <td>15.6</td>\n",
       "      <td>127</td>\n",
       "      <td>2.80</td>\n",
       "      <td>3.06</td>\n",
       "      <td>0.28</td>\n",
       "      <td>2.29</td>\n",
       "      <td>5.64</td>\n",
       "      <td>1.04</td>\n",
       "      <td>3.92</td>\n",
       "      <td>1065</td>\n",
       "    </tr>\n",
       "    <tr>\n",
       "      <th>1</th>\n",
       "      <td>1</td>\n",
       "      <td>Barolo</td>\n",
       "      <td>13.20</td>\n",
       "      <td>1.78</td>\n",
       "      <td>2.14</td>\n",
       "      <td>11.2</td>\n",
       "      <td>100</td>\n",
       "      <td>2.65</td>\n",
       "      <td>2.76</td>\n",
       "      <td>0.26</td>\n",
       "      <td>1.28</td>\n",
       "      <td>4.38</td>\n",
       "      <td>1.05</td>\n",
       "      <td>3.40</td>\n",
       "      <td>1050</td>\n",
       "    </tr>\n",
       "    <tr>\n",
       "      <th>2</th>\n",
       "      <td>1</td>\n",
       "      <td>Barolo</td>\n",
       "      <td>13.16</td>\n",
       "      <td>2.36</td>\n",
       "      <td>2.67</td>\n",
       "      <td>18.6</td>\n",
       "      <td>101</td>\n",
       "      <td>2.80</td>\n",
       "      <td>3.24</td>\n",
       "      <td>0.30</td>\n",
       "      <td>2.81</td>\n",
       "      <td>5.68</td>\n",
       "      <td>1.03</td>\n",
       "      <td>3.17</td>\n",
       "      <td>1185</td>\n",
       "    </tr>\n",
       "    <tr>\n",
       "      <th>3</th>\n",
       "      <td>1</td>\n",
       "      <td>Barolo</td>\n",
       "      <td>14.37</td>\n",
       "      <td>1.95</td>\n",
       "      <td>2.50</td>\n",
       "      <td>16.8</td>\n",
       "      <td>113</td>\n",
       "      <td>3.85</td>\n",
       "      <td>3.49</td>\n",
       "      <td>0.24</td>\n",
       "      <td>2.18</td>\n",
       "      <td>7.80</td>\n",
       "      <td>0.86</td>\n",
       "      <td>3.45</td>\n",
       "      <td>1480</td>\n",
       "    </tr>\n",
       "    <tr>\n",
       "      <th>4</th>\n",
       "      <td>1</td>\n",
       "      <td>Barolo</td>\n",
       "      <td>13.24</td>\n",
       "      <td>2.59</td>\n",
       "      <td>2.87</td>\n",
       "      <td>21.0</td>\n",
       "      <td>118</td>\n",
       "      <td>2.80</td>\n",
       "      <td>2.69</td>\n",
       "      <td>0.39</td>\n",
       "      <td>1.82</td>\n",
       "      <td>4.32</td>\n",
       "      <td>1.04</td>\n",
       "      <td>2.93</td>\n",
       "      <td>735</td>\n",
       "    </tr>\n",
       "  </tbody>\n",
       "</table>\n",
       "</div>"
      ],
      "text/plain": [
       "   class_label class_name  alcohol  malic_acid   ash  alcalinity_of_ash  \\\n",
       "0            1     Barolo    14.23        1.71  2.43               15.6   \n",
       "1            1     Barolo    13.20        1.78  2.14               11.2   \n",
       "2            1     Barolo    13.16        2.36  2.67               18.6   \n",
       "3            1     Barolo    14.37        1.95  2.50               16.8   \n",
       "4            1     Barolo    13.24        2.59  2.87               21.0   \n",
       "\n",
       "   magnesium  total_phenols  flavanoids  nonflavanoid_phenols  \\\n",
       "0        127           2.80        3.06                  0.28   \n",
       "1        100           2.65        2.76                  0.26   \n",
       "2        101           2.80        3.24                  0.30   \n",
       "3        113           3.85        3.49                  0.24   \n",
       "4        118           2.80        2.69                  0.39   \n",
       "\n",
       "   proanthocyanins  color_intensity   hue  od280  proline  \n",
       "0             2.29             5.64  1.04   3.92     1065  \n",
       "1             1.28             4.38  1.05   3.40     1050  \n",
       "2             2.81             5.68  1.03   3.17     1185  \n",
       "3             2.18             7.80  0.86   3.45     1480  \n",
       "4             1.82             4.32  1.04   2.93      735  "
      ]
     },
     "execution_count": 5,
     "metadata": {},
     "output_type": "execute_result"
    }
   ],
   "source": [
    "df.head()"
   ]
  },
  {
   "cell_type": "code",
   "execution_count": 6,
   "metadata": {},
   "outputs": [
    {
     "data": {
      "text/html": [
       "<div>\n",
       "<style scoped>\n",
       "    .dataframe tbody tr th:only-of-type {\n",
       "        vertical-align: middle;\n",
       "    }\n",
       "\n",
       "    .dataframe tbody tr th {\n",
       "        vertical-align: top;\n",
       "    }\n",
       "\n",
       "    .dataframe thead th {\n",
       "        text-align: right;\n",
       "    }\n",
       "</style>\n",
       "<table border=\"1\" class=\"dataframe\">\n",
       "  <thead>\n",
       "    <tr style=\"text-align: right;\">\n",
       "      <th></th>\n",
       "      <th>alcohol</th>\n",
       "      <th>malic_acid</th>\n",
       "      <th>ash</th>\n",
       "      <th>alcalinity_of_ash</th>\n",
       "      <th>magnesium</th>\n",
       "      <th>total_phenols</th>\n",
       "      <th>flavanoids</th>\n",
       "      <th>nonflavanoid_phenols</th>\n",
       "      <th>proanthocyanins</th>\n",
       "      <th>color_intensity</th>\n",
       "      <th>hue</th>\n",
       "      <th>od280</th>\n",
       "      <th>proline</th>\n",
       "    </tr>\n",
       "  </thead>\n",
       "  <tbody>\n",
       "    <tr>\n",
       "      <th>0</th>\n",
       "      <td>14.23</td>\n",
       "      <td>1.71</td>\n",
       "      <td>2.43</td>\n",
       "      <td>15.6</td>\n",
       "      <td>127</td>\n",
       "      <td>2.80</td>\n",
       "      <td>3.06</td>\n",
       "      <td>0.28</td>\n",
       "      <td>2.29</td>\n",
       "      <td>5.64</td>\n",
       "      <td>1.04</td>\n",
       "      <td>3.92</td>\n",
       "      <td>1065</td>\n",
       "    </tr>\n",
       "    <tr>\n",
       "      <th>1</th>\n",
       "      <td>13.20</td>\n",
       "      <td>1.78</td>\n",
       "      <td>2.14</td>\n",
       "      <td>11.2</td>\n",
       "      <td>100</td>\n",
       "      <td>2.65</td>\n",
       "      <td>2.76</td>\n",
       "      <td>0.26</td>\n",
       "      <td>1.28</td>\n",
       "      <td>4.38</td>\n",
       "      <td>1.05</td>\n",
       "      <td>3.40</td>\n",
       "      <td>1050</td>\n",
       "    </tr>\n",
       "    <tr>\n",
       "      <th>2</th>\n",
       "      <td>13.16</td>\n",
       "      <td>2.36</td>\n",
       "      <td>2.67</td>\n",
       "      <td>18.6</td>\n",
       "      <td>101</td>\n",
       "      <td>2.80</td>\n",
       "      <td>3.24</td>\n",
       "      <td>0.30</td>\n",
       "      <td>2.81</td>\n",
       "      <td>5.68</td>\n",
       "      <td>1.03</td>\n",
       "      <td>3.17</td>\n",
       "      <td>1185</td>\n",
       "    </tr>\n",
       "    <tr>\n",
       "      <th>3</th>\n",
       "      <td>14.37</td>\n",
       "      <td>1.95</td>\n",
       "      <td>2.50</td>\n",
       "      <td>16.8</td>\n",
       "      <td>113</td>\n",
       "      <td>3.85</td>\n",
       "      <td>3.49</td>\n",
       "      <td>0.24</td>\n",
       "      <td>2.18</td>\n",
       "      <td>7.80</td>\n",
       "      <td>0.86</td>\n",
       "      <td>3.45</td>\n",
       "      <td>1480</td>\n",
       "    </tr>\n",
       "    <tr>\n",
       "      <th>4</th>\n",
       "      <td>13.24</td>\n",
       "      <td>2.59</td>\n",
       "      <td>2.87</td>\n",
       "      <td>21.0</td>\n",
       "      <td>118</td>\n",
       "      <td>2.80</td>\n",
       "      <td>2.69</td>\n",
       "      <td>0.39</td>\n",
       "      <td>1.82</td>\n",
       "      <td>4.32</td>\n",
       "      <td>1.04</td>\n",
       "      <td>2.93</td>\n",
       "      <td>735</td>\n",
       "    </tr>\n",
       "  </tbody>\n",
       "</table>\n",
       "</div>"
      ],
      "text/plain": [
       "   alcohol  malic_acid   ash  alcalinity_of_ash  magnesium  total_phenols  \\\n",
       "0    14.23        1.71  2.43               15.6        127           2.80   \n",
       "1    13.20        1.78  2.14               11.2        100           2.65   \n",
       "2    13.16        2.36  2.67               18.6        101           2.80   \n",
       "3    14.37        1.95  2.50               16.8        113           3.85   \n",
       "4    13.24        2.59  2.87               21.0        118           2.80   \n",
       "\n",
       "   flavanoids  nonflavanoid_phenols  proanthocyanins  color_intensity   hue  \\\n",
       "0        3.06                  0.28             2.29             5.64  1.04   \n",
       "1        2.76                  0.26             1.28             4.38  1.05   \n",
       "2        3.24                  0.30             2.81             5.68  1.03   \n",
       "3        3.49                  0.24             2.18             7.80  0.86   \n",
       "4        2.69                  0.39             1.82             4.32  1.04   \n",
       "\n",
       "   od280  proline  \n",
       "0   3.92     1065  \n",
       "1   3.40     1050  \n",
       "2   3.17     1185  \n",
       "3   3.45     1480  \n",
       "4   2.93      735  "
      ]
     },
     "execution_count": 6,
     "metadata": {},
     "output_type": "execute_result"
    }
   ],
   "source": [
    "# Dropping Categorical Features for Outlier Detection\n",
    "df1 = df.drop(['class_label', 'class_name'], axis=1)\n",
    "df1.head()"
   ]
  },
  {
   "cell_type": "code",
   "execution_count": 7,
   "metadata": {},
   "outputs": [
    {
     "data": {
      "text/plain": [
       "['alcohol',\n",
       " 'malic_acid',\n",
       " 'ash',\n",
       " 'alcalinity_of_ash',\n",
       " 'magnesium',\n",
       " 'total_phenols',\n",
       " 'flavanoids',\n",
       " 'nonflavanoid_phenols',\n",
       " 'proanthocyanins',\n",
       " 'color_intensity',\n",
       " 'hue',\n",
       " 'od280',\n",
       " 'proline']"
      ]
     },
     "execution_count": 7,
     "metadata": {},
     "output_type": "execute_result"
    }
   ],
   "source": [
    "cols = df1.columns\n",
    "cols = list(cols)\n",
    "cols"
   ]
  },
  {
   "cell_type": "code",
   "execution_count": 8,
   "metadata": {},
   "outputs": [
    {
     "data": {
      "image/png": "[encoded data removed]",
      "text/plain": [
       "<Figure size 432x288 with 1 Axes>"
      ]
     },
     "metadata": {
      "needs_background": "light"
     },
     "output_type": "display_data"
    },
    {
     "data": {
      "image/png": "[encoded data removed]",
      "text/plain": [
       "<Figure size 432x288 with 1 Axes>"
      ]
     },
     "metadata": {
      "needs_background": "light"
     },
     "output_type": "display_data"
    },
    {
     "data": {
      "image/png": "[encoded data removed]",
      "text/plain": [
       "<Figure size 432x288 with 1 Axes>"
      ]
     },
     "metadata": {
      "needs_background": "light"
     },
     "output_type": "display_data"
    },
    {
     "data": {
      "image/png": "[encoded data removed]",
      "text/plain": [
       "<Figure size 432x288 with 1 Axes>"
      ]
     },
     "metadata": {
      "needs_background": "light"
     },
     "output_type": "display_data"
    },
    {
     "data": {
      "image/png": "[encoded data removed]",
      "text/plain": [
       "<Figure size 432x288 with 1 Axes>"
      ]
     },
     "metadata": {
      "needs_background": "light"
     },
     "output_type": "display_data"
    },
    {
     "data": {
      "image/png": "[encoded data removed]",
      "text/plain": [
       "<Figure size 432x288 with 1 Axes>"
      ]
     },
     "metadata": {
      "needs_background": "light"
     },
     "output_type": "display_data"
    },
    {
     "data": {
      "image/png": "[encoded data removed]",
      "text/plain": [
       "<Figure size 432x288 with 1 Axes>"
      ]
     },
     "metadata": {
      "needs_background": "light"
     },
     "output_type": "display_data"
    },
    {
     "data": {
      "image/png": "[encoded data removed]",
      "text/plain": [
       "<Figure size 432x288 with 1 Axes>"
      ]
     },
     "metadata": {
      "needs_background": "light"
     },
     "output_type": "display_data"
    },
    {
     "data": {
      "image/png": "[encoded data removed]",
      "text/plain": [
       "<Figure size 432x288 with 1 Axes>"
      ]
     },
     "metadata": {
      "needs_background": "light"
     },
     "output_type": "display_data"
    },
    {
     "data": {
      "image/png": "[encoded data removed]",
      "text/plain": [
       "<Figure size 432x288 with 1 Axes>"
      ]
     },
     "metadata": {
      "needs_background": "light"
     },
     "output_type": "display_data"
    },
    {
     "data": {
      "image/png": "[encoded data removed]",
      "text/plain": [
       "<Figure size 432x288 with 1 Axes>"
      ]
     },
     "metadata": {
      "needs_background": "light"
     },
     "output_type": "display_data"
    },
    {
     "data": {
      "image/png": "[encoded data removed]",
      "text/plain": [
       "<Figure size 432x288 with 1 Axes>"
      ]
     },
     "metadata": {
      "needs_background": "light"
     },
     "output_type": "display_data"
    },
    {
     "data": {
      "image/png": "[encoded data removed]",
      "text/plain": [
       "<Figure size 432x288 with 1 Axes>"
      ]
     },
     "metadata": {
      "needs_background": "light"
     },
     "output_type": "display_data"
    }
   ],
   "source": [
    "# Plotting box plots for all columns in dataset to gain further insights on dataset columns especially with respect to outliers\n",
    "for column in cols:\n",
    "    df1[column].plot.box()\n",
    "    plt.ylabel(column)\n",
    "    plt.show()"
   ]
  },
  {
   "cell_type": "markdown",
   "metadata": {},
   "source": [
    "### From the above box-plots we can see that columns such as malic_acid, magnesium color_intensity all have many outliers (high outliers)."
   ]
  },
  {
   "cell_type": "markdown",
   "metadata": {},
   "source": [
    "### Outlier Detection for feature malic_acid:"
   ]
  },
  {
   "cell_type": "code",
   "execution_count": 9,
   "metadata": {},
   "outputs": [
    {
     "data": {
      "text/plain": [
       "0    1.71\n",
       "1    1.78\n",
       "2    2.36\n",
       "3    1.95\n",
       "4    2.59\n",
       "Name: malic_acid, dtype: float64"
      ]
     },
     "execution_count": 9,
     "metadata": {},
     "output_type": "execute_result"
    }
   ],
   "source": [
    "df1['malic_acid'].head()"
   ]
  },
  {
   "cell_type": "code",
   "execution_count": 10,
   "metadata": {},
   "outputs": [
    {
     "name": "stdout",
     "output_type": "stream",
     "text": [
      "1.4799999999999998\n"
     ]
    }
   ],
   "source": [
    "# IQR \n",
    "\n",
    "\n",
    "Q1 = df1['malic_acid'].quantile(0.25)\n",
    "Q3 = df1['malic_acid'].quantile(0.75)\n",
    "\n",
    "IQR = Q3 - Q1\n",
    "print(IQR)"
   ]
  },
  {
   "cell_type": "code",
   "execution_count": 11,
   "metadata": {},
   "outputs": [],
   "source": [
    "# Below are the outlier rows of column 'record_min_temp_year'\n",
    "\n",
    "outliers_malic = df1['malic_acid'][(df1['malic_acid'] < (Q1 - 1.5 * IQR)) |(df1['malic_acid'] > (Q3 + 1.5 * IQR))]\n",
    "\n"
   ]
  },
  {
   "cell_type": "code",
   "execution_count": 12,
   "metadata": {},
   "outputs": [
    {
     "data": {
      "text/plain": [
       "3"
      ]
     },
     "execution_count": 12,
     "metadata": {},
     "output_type": "execute_result"
    }
   ],
   "source": [
    "outliers_malic.count()"
   ]
  },
  {
   "cell_type": "markdown",
   "metadata": {},
   "source": [
    "### There are 3 high outliers for malic_acid\n",
    "---"
   ]
  },
  {
   "cell_type": "markdown",
   "metadata": {},
   "source": [
    "### Outlier detection for color_intensity"
   ]
  },
  {
   "cell_type": "code",
   "execution_count": 13,
   "metadata": {},
   "outputs": [
    {
     "data": {
      "text/plain": [
       "0    5.64\n",
       "1    4.38\n",
       "2    5.68\n",
       "3    7.80\n",
       "4    4.32\n",
       "Name: color_intensity, dtype: float64"
      ]
     },
     "execution_count": 13,
     "metadata": {},
     "output_type": "execute_result"
    }
   ],
   "source": [
    "df1['color_intensity'].head()"
   ]
  },
  {
   "cell_type": "code",
   "execution_count": 14,
   "metadata": {},
   "outputs": [
    {
     "name": "stdout",
     "output_type": "stream",
     "text": [
      "2.9800000000000004\n"
     ]
    }
   ],
   "source": [
    "# IQR \n",
    "\n",
    "\n",
    "Q1 = df1['color_intensity'].quantile(0.25)\n",
    "Q3 = df1['color_intensity'].quantile(0.75)\n",
    "\n",
    "IQR = Q3 - Q1\n",
    "print(IQR)"
   ]
  },
  {
   "cell_type": "code",
   "execution_count": 15,
   "metadata": {},
   "outputs": [],
   "source": [
    "# Below are the outlier rows of column 'record_min_temp_year'\n",
    "\n",
    "outliers_color = df1['color_intensity'][(df1['color_intensity'] < (Q1 - 1.5 * IQR)) |(df1['color_intensity'] > (Q3 + 1.5 * IQR))]\n",
    "\n"
   ]
  },
  {
   "cell_type": "code",
   "execution_count": 16,
   "metadata": {},
   "outputs": [
    {
     "data": {
      "text/plain": [
       "4"
      ]
     },
     "execution_count": 16,
     "metadata": {},
     "output_type": "execute_result"
    }
   ],
   "source": [
    "outliers_color.count()"
   ]
  },
  {
   "cell_type": "markdown",
   "metadata": {},
   "source": [
    "### There are 4 outliers for color_intensity\n",
    "---"
   ]
  },
  {
   "cell_type": "markdown",
   "metadata": {},
   "source": [
    "## Data Standardization using StandardScalar:"
   ]
  },
  {
   "cell_type": "code",
   "execution_count": 17,
   "metadata": {},
   "outputs": [
    {
     "data": {
      "text/html": [
       "<div>\n",
       "<style scoped>\n",
       "    .dataframe tbody tr th:only-of-type {\n",
       "        vertical-align: middle;\n",
       "    }\n",
       "\n",
       "    .dataframe tbody tr th {\n",
       "        vertical-align: top;\n",
       "    }\n",
       "\n",
       "    .dataframe thead th {\n",
       "        text-align: right;\n",
       "    }\n",
       "</style>\n",
       "<table border=\"1\" class=\"dataframe\">\n",
       "  <thead>\n",
       "    <tr style=\"text-align: right;\">\n",
       "      <th></th>\n",
       "      <th>class_label</th>\n",
       "      <th>class_name</th>\n",
       "      <th>alcohol</th>\n",
       "      <th>malic_acid</th>\n",
       "      <th>ash</th>\n",
       "      <th>alcalinity_of_ash</th>\n",
       "      <th>magnesium</th>\n",
       "      <th>total_phenols</th>\n",
       "      <th>flavanoids</th>\n",
       "      <th>nonflavanoid_phenols</th>\n",
       "      <th>proanthocyanins</th>\n",
       "      <th>color_intensity</th>\n",
       "      <th>hue</th>\n",
       "      <th>od280</th>\n",
       "      <th>proline</th>\n",
       "    </tr>\n",
       "  </thead>\n",
       "  <tbody>\n",
       "    <tr>\n",
       "      <th>0</th>\n",
       "      <td>1</td>\n",
       "      <td>Barolo</td>\n",
       "      <td>14.23</td>\n",
       "      <td>1.71</td>\n",
       "      <td>2.43</td>\n",
       "      <td>15.6</td>\n",
       "      <td>127</td>\n",
       "      <td>2.80</td>\n",
       "      <td>3.06</td>\n",
       "      <td>0.28</td>\n",
       "      <td>2.29</td>\n",
       "      <td>5.64</td>\n",
       "      <td>1.04</td>\n",
       "      <td>3.92</td>\n",
       "      <td>1065</td>\n",
       "    </tr>\n",
       "    <tr>\n",
       "      <th>1</th>\n",
       "      <td>1</td>\n",
       "      <td>Barolo</td>\n",
       "      <td>13.20</td>\n",
       "      <td>1.78</td>\n",
       "      <td>2.14</td>\n",
       "      <td>11.2</td>\n",
       "      <td>100</td>\n",
       "      <td>2.65</td>\n",
       "      <td>2.76</td>\n",
       "      <td>0.26</td>\n",
       "      <td>1.28</td>\n",
       "      <td>4.38</td>\n",
       "      <td>1.05</td>\n",
       "      <td>3.40</td>\n",
       "      <td>1050</td>\n",
       "    </tr>\n",
       "    <tr>\n",
       "      <th>2</th>\n",
       "      <td>1</td>\n",
       "      <td>Barolo</td>\n",
       "      <td>13.16</td>\n",
       "      <td>2.36</td>\n",
       "      <td>2.67</td>\n",
       "      <td>18.6</td>\n",
       "      <td>101</td>\n",
       "      <td>2.80</td>\n",
       "      <td>3.24</td>\n",
       "      <td>0.30</td>\n",
       "      <td>2.81</td>\n",
       "      <td>5.68</td>\n",
       "      <td>1.03</td>\n",
       "      <td>3.17</td>\n",
       "      <td>1185</td>\n",
       "    </tr>\n",
       "    <tr>\n",
       "      <th>3</th>\n",
       "      <td>1</td>\n",
       "      <td>Barolo</td>\n",
       "      <td>14.37</td>\n",
       "      <td>1.95</td>\n",
       "      <td>2.50</td>\n",
       "      <td>16.8</td>\n",
       "      <td>113</td>\n",
       "      <td>3.85</td>\n",
       "      <td>3.49</td>\n",
       "      <td>0.24</td>\n",
       "      <td>2.18</td>\n",
       "      <td>7.80</td>\n",
       "      <td>0.86</td>\n",
       "      <td>3.45</td>\n",
       "      <td>1480</td>\n",
       "    </tr>\n",
       "    <tr>\n",
       "      <th>4</th>\n",
       "      <td>1</td>\n",
       "      <td>Barolo</td>\n",
       "      <td>13.24</td>\n",
       "      <td>2.59</td>\n",
       "      <td>2.87</td>\n",
       "      <td>21.0</td>\n",
       "      <td>118</td>\n",
       "      <td>2.80</td>\n",
       "      <td>2.69</td>\n",
       "      <td>0.39</td>\n",
       "      <td>1.82</td>\n",
       "      <td>4.32</td>\n",
       "      <td>1.04</td>\n",
       "      <td>2.93</td>\n",
       "      <td>735</td>\n",
       "    </tr>\n",
       "  </tbody>\n",
       "</table>\n",
       "</div>"
      ],
      "text/plain": [
       "   class_label class_name  alcohol  malic_acid   ash  alcalinity_of_ash  \\\n",
       "0            1     Barolo    14.23        1.71  2.43               15.6   \n",
       "1            1     Barolo    13.20        1.78  2.14               11.2   \n",
       "2            1     Barolo    13.16        2.36  2.67               18.6   \n",
       "3            1     Barolo    14.37        1.95  2.50               16.8   \n",
       "4            1     Barolo    13.24        2.59  2.87               21.0   \n",
       "\n",
       "   magnesium  total_phenols  flavanoids  nonflavanoid_phenols  \\\n",
       "0        127           2.80        3.06                  0.28   \n",
       "1        100           2.65        2.76                  0.26   \n",
       "2        101           2.80        3.24                  0.30   \n",
       "3        113           3.85        3.49                  0.24   \n",
       "4        118           2.80        2.69                  0.39   \n",
       "\n",
       "   proanthocyanins  color_intensity   hue  od280  proline  \n",
       "0             2.29             5.64  1.04   3.92     1065  \n",
       "1             1.28             4.38  1.05   3.40     1050  \n",
       "2             2.81             5.68  1.03   3.17     1185  \n",
       "3             2.18             7.80  0.86   3.45     1480  \n",
       "4             1.82             4.32  1.04   2.93      735  "
      ]
     },
     "execution_count": 17,
     "metadata": {},
     "output_type": "execute_result"
    }
   ],
   "source": [
    "import sklearn\n",
    "df.head()"
   ]
  },
  {
   "cell_type": "code",
   "execution_count": 18,
   "metadata": {},
   "outputs": [],
   "source": [
    "features = df.drop(['class_label', 'class_name'], axis=1)\n",
    "target = df['class_name'] # Target variable we are going to predict"
   ]
  },
  {
   "cell_type": "code",
   "execution_count": 19,
   "metadata": {},
   "outputs": [
    {
     "name": "stderr",
     "output_type": "stream",
     "text": [
      "/Library/Frameworks/Python.framework/anaconda3/lib/python3.7/site-packages/sklearn/preprocessing/data.py:625: DataConversionWarning: Data with input dtype int64, float64 were all converted to float64 by StandardScaler.\n",
      "  return self.partial_fit(X, y)\n",
      "/Library/Frameworks/Python.framework/anaconda3/lib/python3.7/site-packages/sklearn/base.py:462: DataConversionWarning: Data with input dtype int64, float64 were all converted to float64 by StandardScaler.\n",
      "  return self.fit(X, **fit_params).transform(X)\n"
     ]
    },
    {
     "data": {
      "text/html": [
       "<div>\n",
       "<style scoped>\n",
       "    .dataframe tbody tr th:only-of-type {\n",
       "        vertical-align: middle;\n",
       "    }\n",
       "\n",
       "    .dataframe tbody tr th {\n",
       "        vertical-align: top;\n",
       "    }\n",
       "\n",
       "    .dataframe thead th {\n",
       "        text-align: right;\n",
       "    }\n",
       "</style>\n",
       "<table border=\"1\" class=\"dataframe\">\n",
       "  <thead>\n",
       "    <tr style=\"text-align: right;\">\n",
       "      <th></th>\n",
       "      <th>0</th>\n",
       "      <th>1</th>\n",
       "      <th>2</th>\n",
       "      <th>3</th>\n",
       "      <th>4</th>\n",
       "      <th>5</th>\n",
       "      <th>6</th>\n",
       "      <th>7</th>\n",
       "      <th>8</th>\n",
       "      <th>9</th>\n",
       "      <th>10</th>\n",
       "      <th>11</th>\n",
       "      <th>12</th>\n",
       "    </tr>\n",
       "  </thead>\n",
       "  <tbody>\n",
       "    <tr>\n",
       "      <th>0</th>\n",
       "      <td>1.518613</td>\n",
       "      <td>-0.562250</td>\n",
       "      <td>0.232053</td>\n",
       "      <td>-1.169593</td>\n",
       "      <td>1.913905</td>\n",
       "      <td>0.808997</td>\n",
       "      <td>1.034819</td>\n",
       "      <td>-0.659563</td>\n",
       "      <td>1.224884</td>\n",
       "      <td>0.251717</td>\n",
       "      <td>0.362177</td>\n",
       "      <td>1.847920</td>\n",
       "      <td>1.013009</td>\n",
       "    </tr>\n",
       "    <tr>\n",
       "      <th>1</th>\n",
       "      <td>0.246290</td>\n",
       "      <td>-0.499413</td>\n",
       "      <td>-0.827996</td>\n",
       "      <td>-2.490847</td>\n",
       "      <td>0.018145</td>\n",
       "      <td>0.568648</td>\n",
       "      <td>0.733629</td>\n",
       "      <td>-0.820719</td>\n",
       "      <td>-0.544721</td>\n",
       "      <td>-0.293321</td>\n",
       "      <td>0.406051</td>\n",
       "      <td>1.113449</td>\n",
       "      <td>0.965242</td>\n",
       "    </tr>\n",
       "    <tr>\n",
       "      <th>2</th>\n",
       "      <td>0.196879</td>\n",
       "      <td>0.021231</td>\n",
       "      <td>1.109334</td>\n",
       "      <td>-0.268738</td>\n",
       "      <td>0.088358</td>\n",
       "      <td>0.808997</td>\n",
       "      <td>1.215533</td>\n",
       "      <td>-0.498407</td>\n",
       "      <td>2.135968</td>\n",
       "      <td>0.269020</td>\n",
       "      <td>0.318304</td>\n",
       "      <td>0.788587</td>\n",
       "      <td>1.395148</td>\n",
       "    </tr>\n",
       "    <tr>\n",
       "      <th>3</th>\n",
       "      <td>1.691550</td>\n",
       "      <td>-0.346811</td>\n",
       "      <td>0.487926</td>\n",
       "      <td>-0.809251</td>\n",
       "      <td>0.930918</td>\n",
       "      <td>2.491446</td>\n",
       "      <td>1.466525</td>\n",
       "      <td>-0.981875</td>\n",
       "      <td>1.032155</td>\n",
       "      <td>1.186068</td>\n",
       "      <td>-0.427544</td>\n",
       "      <td>1.184071</td>\n",
       "      <td>2.334574</td>\n",
       "    </tr>\n",
       "    <tr>\n",
       "      <th>4</th>\n",
       "      <td>0.295700</td>\n",
       "      <td>0.227694</td>\n",
       "      <td>1.840403</td>\n",
       "      <td>0.451946</td>\n",
       "      <td>1.281985</td>\n",
       "      <td>0.808997</td>\n",
       "      <td>0.663351</td>\n",
       "      <td>0.226796</td>\n",
       "      <td>0.401404</td>\n",
       "      <td>-0.319276</td>\n",
       "      <td>0.362177</td>\n",
       "      <td>0.449601</td>\n",
       "      <td>-0.037874</td>\n",
       "    </tr>\n",
       "  </tbody>\n",
       "</table>\n",
       "</div>"
      ],
      "text/plain": [
       "         0         1         2         3         4         5         6   \\\n",
       "0  1.518613 -0.562250  0.232053 -1.169593  1.913905  0.808997  1.034819   \n",
       "1  0.246290 -0.499413 -0.827996 -2.490847  0.018145  0.568648  0.733629   \n",
       "2  0.196879  0.021231  1.109334 -0.268738  0.088358  0.808997  1.215533   \n",
       "3  1.691550 -0.346811  0.487926 -0.809251  0.930918  2.491446  1.466525   \n",
       "4  0.295700  0.227694  1.840403  0.451946  1.281985  0.808997  0.663351   \n",
       "\n",
       "         7         8         9         10        11        12  \n",
       "0 -0.659563  1.224884  0.251717  0.362177  1.847920  1.013009  \n",
       "1 -0.820719 -0.544721 -0.293321  0.406051  1.113449  0.965242  \n",
       "2 -0.498407  2.135968  0.269020  0.318304  0.788587  1.395148  \n",
       "3 -0.981875  1.032155  1.186068 -0.427544  1.184071  2.334574  \n",
       "4  0.226796  0.401404 -0.319276  0.362177  0.449601 -0.037874  "
      ]
     },
     "execution_count": 19,
     "metadata": {},
     "output_type": "execute_result"
    }
   ],
   "source": [
    "# Normalizing our data since we are performing linear regression and it's cost parameter is a distance metric where normalizing data is imperative.\n",
    "from sklearn.preprocessing import StandardScaler\n",
    "\n",
    "features_transformed = StandardScaler().fit_transform(features)\n",
    "features_transformed = pd.DataFrame(features_transformed)\n",
    "features_transformed.head()\n"
   ]
  },
  {
   "cell_type": "code",
   "execution_count": 20,
   "metadata": {},
   "outputs": [
    {
     "data": {
      "text/html": [
       "<div>\n",
       "<style scoped>\n",
       "    .dataframe tbody tr th:only-of-type {\n",
       "        vertical-align: middle;\n",
       "    }\n",
       "\n",
       "    .dataframe tbody tr th {\n",
       "        vertical-align: top;\n",
       "    }\n",
       "\n",
       "    .dataframe thead th {\n",
       "        text-align: right;\n",
       "    }\n",
       "</style>\n",
       "<table border=\"1\" class=\"dataframe\">\n",
       "  <thead>\n",
       "    <tr style=\"text-align: right;\">\n",
       "      <th></th>\n",
       "      <th>alcohol</th>\n",
       "      <th>malic_acid</th>\n",
       "      <th>ash</th>\n",
       "      <th>alcalinity_of_ash</th>\n",
       "      <th>magnesium</th>\n",
       "      <th>total_phenols</th>\n",
       "      <th>flavanoids</th>\n",
       "      <th>nonflavanoid_phenols</th>\n",
       "      <th>proanthocyanins</th>\n",
       "      <th>color_intensity</th>\n",
       "      <th>hue</th>\n",
       "      <th>od280</th>\n",
       "      <th>proline</th>\n",
       "    </tr>\n",
       "  </thead>\n",
       "  <tbody>\n",
       "    <tr>\n",
       "      <th>0</th>\n",
       "      <td>1.518613</td>\n",
       "      <td>-0.562250</td>\n",
       "      <td>0.232053</td>\n",
       "      <td>-1.169593</td>\n",
       "      <td>1.913905</td>\n",
       "      <td>0.808997</td>\n",
       "      <td>1.034819</td>\n",
       "      <td>-0.659563</td>\n",
       "      <td>1.224884</td>\n",
       "      <td>0.251717</td>\n",
       "      <td>0.362177</td>\n",
       "      <td>1.847920</td>\n",
       "      <td>1.013009</td>\n",
       "    </tr>\n",
       "    <tr>\n",
       "      <th>1</th>\n",
       "      <td>0.246290</td>\n",
       "      <td>-0.499413</td>\n",
       "      <td>-0.827996</td>\n",
       "      <td>-2.490847</td>\n",
       "      <td>0.018145</td>\n",
       "      <td>0.568648</td>\n",
       "      <td>0.733629</td>\n",
       "      <td>-0.820719</td>\n",
       "      <td>-0.544721</td>\n",
       "      <td>-0.293321</td>\n",
       "      <td>0.406051</td>\n",
       "      <td>1.113449</td>\n",
       "      <td>0.965242</td>\n",
       "    </tr>\n",
       "    <tr>\n",
       "      <th>2</th>\n",
       "      <td>0.196879</td>\n",
       "      <td>0.021231</td>\n",
       "      <td>1.109334</td>\n",
       "      <td>-0.268738</td>\n",
       "      <td>0.088358</td>\n",
       "      <td>0.808997</td>\n",
       "      <td>1.215533</td>\n",
       "      <td>-0.498407</td>\n",
       "      <td>2.135968</td>\n",
       "      <td>0.269020</td>\n",
       "      <td>0.318304</td>\n",
       "      <td>0.788587</td>\n",
       "      <td>1.395148</td>\n",
       "    </tr>\n",
       "    <tr>\n",
       "      <th>3</th>\n",
       "      <td>1.691550</td>\n",
       "      <td>-0.346811</td>\n",
       "      <td>0.487926</td>\n",
       "      <td>-0.809251</td>\n",
       "      <td>0.930918</td>\n",
       "      <td>2.491446</td>\n",
       "      <td>1.466525</td>\n",
       "      <td>-0.981875</td>\n",
       "      <td>1.032155</td>\n",
       "      <td>1.186068</td>\n",
       "      <td>-0.427544</td>\n",
       "      <td>1.184071</td>\n",
       "      <td>2.334574</td>\n",
       "    </tr>\n",
       "    <tr>\n",
       "      <th>4</th>\n",
       "      <td>0.295700</td>\n",
       "      <td>0.227694</td>\n",
       "      <td>1.840403</td>\n",
       "      <td>0.451946</td>\n",
       "      <td>1.281985</td>\n",
       "      <td>0.808997</td>\n",
       "      <td>0.663351</td>\n",
       "      <td>0.226796</td>\n",
       "      <td>0.401404</td>\n",
       "      <td>-0.319276</td>\n",
       "      <td>0.362177</td>\n",
       "      <td>0.449601</td>\n",
       "      <td>-0.037874</td>\n",
       "    </tr>\n",
       "  </tbody>\n",
       "</table>\n",
       "</div>"
      ],
      "text/plain": [
       "    alcohol  malic_acid       ash  alcalinity_of_ash  magnesium  \\\n",
       "0  1.518613   -0.562250  0.232053          -1.169593   1.913905   \n",
       "1  0.246290   -0.499413 -0.827996          -2.490847   0.018145   \n",
       "2  0.196879    0.021231  1.109334          -0.268738   0.088358   \n",
       "3  1.691550   -0.346811  0.487926          -0.809251   0.930918   \n",
       "4  0.295700    0.227694  1.840403           0.451946   1.281985   \n",
       "\n",
       "   total_phenols  flavanoids  nonflavanoid_phenols  proanthocyanins  \\\n",
       "0       0.808997    1.034819             -0.659563         1.224884   \n",
       "1       0.568648    0.733629             -0.820719        -0.544721   \n",
       "2       0.808997    1.215533             -0.498407         2.135968   \n",
       "3       2.491446    1.466525             -0.981875         1.032155   \n",
       "4       0.808997    0.663351              0.226796         0.401404   \n",
       "\n",
       "   color_intensity       hue     od280   proline  \n",
       "0         0.251717  0.362177  1.847920  1.013009  \n",
       "1        -0.293321  0.406051  1.113449  0.965242  \n",
       "2         0.269020  0.318304  0.788587  1.395148  \n",
       "3         1.186068 -0.427544  1.184071  2.334574  \n",
       "4        -0.319276  0.362177  0.449601 -0.037874  "
      ]
     },
     "execution_count": 20,
     "metadata": {},
     "output_type": "execute_result"
    }
   ],
   "source": [
    "# Adding column names to featured_transformed\n",
    "features_transformed.columns = df1.columns\n",
    "features_transformed.head()"
   ]
  },
  {
   "cell_type": "markdown",
   "metadata": {},
   "source": [
    "### All the features are now on the same scale.\n",
    "---"
   ]
  },
  {
   "cell_type": "markdown",
   "metadata": {},
   "source": [
    "## Principal Component Analysis:"
   ]
  },
  {
   "cell_type": "markdown",
   "metadata": {},
   "source": [
    "---\n",
    "### PCA from scratch:"
   ]
  },
  {
   "cell_type": "code",
   "execution_count": 21,
   "metadata": {},
   "outputs": [],
   "source": [
    "# Step 1: Making a copy of features that have already been standardized\n",
    "\n",
    "features_standardized = features_transformed"
   ]
  },
  {
   "cell_type": "code",
   "execution_count": 22,
   "metadata": {},
   "outputs": [
    {
     "data": {
      "text/plain": [
       "array([[178.        ,  16.80265548,  37.65493816, -55.22185437,\n",
       "         48.20208421,  51.45999982,  42.15305717, -27.75544507,\n",
       "         24.33222829,  97.25282672, -12.77100112,  12.87708736,\n",
       "        114.58216662],\n",
       "       [ 16.80265548, 178.        ,  29.20009362,  51.3530717 ,\n",
       "         -9.7143671 , -59.65972549, -73.1591726 ,  52.14992976,\n",
       "        -39.29282125,  44.31939125, -99.91063258, -65.63045624,\n",
       "        -34.1778805 ],\n",
       "       [ 37.65493816,  29.20009362, 178.        ,  78.91935921,\n",
       "         51.01243104,  22.9583577 ,  20.48375566,  33.14901944,\n",
       "          1.71804446,  46.08193216, -13.29070625,   0.69619905,\n",
       "         39.80547494],\n",
       "       [-55.22185437,  51.3530717 ,  78.91935921, 178.        ,\n",
       "        -14.83328977, -57.15817048, -62.5438351 ,  64.4220659 ,\n",
       "        -35.12417676,   3.33429261, -48.76402964, -49.2648017 ,\n",
       "        -78.42625377],\n",
       "       [ 48.20208421,  -9.7143671 ,  51.01243104, -14.83328977,\n",
       "        178.        ,  38.16341977,  34.84951103, -45.62034071,\n",
       "         42.08642854,  35.59110112,   9.86087882,  11.74870061,\n",
       "         70.01645119],\n",
       "       [ 51.45999982, -59.65972549,  22.9583577 , -57.15817048,\n",
       "         38.16341977, 178.        , 153.89230302, -80.08848357,\n",
       "        109.00952891,  -9.81428236,  77.19527767, 124.59098693,\n",
       "         88.66444858],\n",
       "       [ 42.15305717, -73.1591726 ,  20.48375566, -62.5438351 ,\n",
       "         34.84951103, 153.89230302, 178.        , -95.74613092,\n",
       "        116.17913481, -30.6835329 ,  96.73918484, 140.12051453,\n",
       "         87.96637664],\n",
       "       [-27.75544507,  52.14992976,  33.14901944,  64.4220659 ,\n",
       "        -45.62034071, -80.08848357, -95.74613092, 178.        ,\n",
       "        -65.12042762,  24.75214829, -46.74985434, -89.5819881 ,\n",
       "        -55.42656352],\n",
       "       [ 24.33222829, -39.29282125,   1.71804446, -35.12417676,\n",
       "         42.08642854, 109.00952891, 116.17913481, -65.12042762,\n",
       "        178.        ,  -4.49448769,  52.606877  ,  92.39394303,\n",
       "         58.81417267],\n",
       "       [ 97.25282672,  44.31939125,  46.08193216,   3.33429261,\n",
       "         35.59110112,  -9.81428236, -30.6835329 ,  24.75214829,\n",
       "         -4.49448769, 178.        , -92.88274839, -76.32905965,\n",
       "         56.26582005],\n",
       "       [-12.77100112, -99.91063258, -13.29070625, -48.76402964,\n",
       "          9.86087882,  77.19527767,  96.73918484, -46.74985434,\n",
       "         52.606877  , -92.88274839, 178.        , 100.65335619,\n",
       "         42.0406535 ],\n",
       "       [ 12.87708736, -65.63045624,   0.69619905, -49.2648017 ,\n",
       "         11.74870061, 124.59098693, 140.12051453, -89.5819881 ,\n",
       "         92.39394303, -76.32905965, 100.65335619, 178.        ,\n",
       "         55.67147143],\n",
       "       [114.58216662, -34.1778805 ,  39.80547494, -78.42625377,\n",
       "         70.01645119,  88.66444858,  87.96637664, -55.42656352,\n",
       "         58.81417267,  56.26582005,  42.0406535 ,  55.67147143,\n",
       "        178.        ]])"
      ]
     },
     "execution_count": 22,
     "metadata": {},
     "output_type": "execute_result"
    }
   ],
   "source": [
    "# Step 2: Calculate covariance matrix(S) = X.T * X\n",
    "\n",
    "covar_matrix = np.matmul(features_standardized.T, features_standardized)\n",
    "covar_matrix"
   ]
  },
  {
   "cell_type": "code",
   "execution_count": 24,
   "metadata": {},
   "outputs": [
    {
     "data": {
      "text/plain": [
       "(13, 13)"
      ]
     },
     "execution_count": 24,
     "metadata": {},
     "output_type": "execute_result"
    }
   ],
   "source": [
    "# Shape of covariance matrix\n",
    "\n",
    "covar_matrix.shape"
   ]
  },
  {
   "cell_type": "code",
   "execution_count": 47,
   "metadata": {},
   "outputs": [],
   "source": [
    "# Step 3: Finding eigen values and eigen vectors using eigh function from scipy\n",
    "from scipy.linalg import eigh\n",
    "\n",
    "values, vectors = eigh(covar_matrix, eigvals=(1, 12)) "
   ]
  },
  {
   "cell_type": "code",
   "execution_count": 63,
   "metadata": {},
   "outputs": [
    {
     "data": {
      "text/plain": [
       "array([[-0.26628645, -0.22591696,  0.21160473,  0.50861912,  0.39613926,\n",
       "         0.05639636,  0.21353865,  0.26566365, -0.0178563 , -0.20738262,\n",
       "        -0.48365155, -0.1443294 ],\n",
       "       [ 0.12169604,  0.07648554, -0.30907994, -0.07528304,  0.06582674,\n",
       "        -0.42052391,  0.53681385, -0.03521363,  0.53689028,  0.08901289,\n",
       "        -0.22493093,  0.24518758],\n",
       "       [-0.04962237, -0.49869142, -0.02712539, -0.30769445, -0.17026002,\n",
       "         0.14917061,  0.15447466,  0.14302547, -0.21417556,  0.6262239 ,\n",
       "        -0.31606881,  0.00205106],\n",
       "       [-0.05574287,  0.47931378,  0.05279942,  0.20044931,  0.42797018,\n",
       "         0.28696914, -0.10082451, -0.06610294,  0.06085941,  0.61208035,\n",
       "         0.0105905 ,  0.23932041],\n",
       "       [ 0.06222011,  0.07128891,  0.06787022,  0.27140257, -0.15636143,\n",
       "        -0.3228833 ,  0.03814394, -0.72704851, -0.35179658,  0.13075693,\n",
       "        -0.299634  , -0.14199204],\n",
       "       [-0.30388245,  0.30434119, -0.32013135,  0.28603452, -0.40593409,\n",
       "         0.02792498, -0.0841223 ,  0.14931841,  0.19806835,  0.14617896,\n",
       "        -0.06503951, -0.39466085],\n",
       "       [-0.04289883, -0.02569409, -0.16315051,  0.04957849, -0.18724536,\n",
       "         0.06068521, -0.01892002,  0.10902584,  0.15229479,  0.1506819 ,\n",
       "         0.00335981, -0.4229343 ],\n",
       "       [ 0.04235219,  0.11689586,  0.21553507,  0.19550132, -0.23328465,\n",
       "        -0.59544729, -0.25859401,  0.50070298, -0.20330102,  0.17036816,\n",
       "        -0.02877949,  0.2985331 ],\n",
       "       [-0.09555303, -0.23736257,  0.1341839 , -0.20914487,  0.36822675,\n",
       "        -0.37213935, -0.53379539, -0.13685982,  0.39905653,  0.14945431,\n",
       "        -0.03930172, -0.31342949],\n",
       "       [ 0.60422163,  0.0318388 , -0.29077518,  0.05621752, -0.03379692,\n",
       "         0.22771214, -0.41864414,  0.07643678,  0.06592568, -0.13730621,\n",
       "        -0.52999567,  0.0886167 ],\n",
       "       [ 0.259214  , -0.04821201, -0.52239889,  0.08582839,  0.43662362,\n",
       "        -0.23207564,  0.10598274,  0.17361452, -0.42777141,  0.08522192,\n",
       "         0.27923515, -0.29671456],\n",
       "       [ 0.60095872,  0.0464233 ,  0.52370587,  0.1372269 , -0.07810789,\n",
       "         0.0447637 ,  0.26585107,  0.10116099,  0.18412074,  0.16600459,\n",
       "         0.16449619, -0.37616741],\n",
       "       [-0.07940162,  0.53926983,  0.162116  , -0.57578611,  0.12002267,\n",
       "        -0.0768045 ,  0.11972557,  0.1578688 , -0.23207086, -0.12674592,\n",
       "        -0.36490283, -0.28675223]])"
      ]
     },
     "execution_count": 63,
     "metadata": {},
     "output_type": "execute_result"
    }
   ],
   "source": [
    "vectors"
   ]
  },
  {
   "cell_type": "code",
   "execution_count": 58,
   "metadata": {},
   "outputs": [
    {
     "data": {
      "text/plain": [
       "array([837.64134503, 444.46132455, 257.40081061, 163.57735843,\n",
       "       151.87461575, 114.21495161,  98.08303953,  62.03253067,\n",
       "        51.42062979,  44.66064183,  40.19037787,  30.0411018 ])"
      ]
     },
     "execution_count": 58,
     "metadata": {},
     "output_type": "execute_result"
    }
   ],
   "source": [
    "explained_variance = values[::-1] # reversing the list as eigh arranges eigen values in ascending order\n",
    "explained_variance"
   ]
  },
  {
   "cell_type": "code",
   "execution_count": 57,
   "metadata": {},
   "outputs": [],
   "source": [
    "total = sum(values)"
   ]
  },
  {
   "cell_type": "code",
   "execution_count": 59,
   "metadata": {},
   "outputs": [
    {
     "data": {
      "text/plain": [
       "array([0.36489014, 0.19361455, 0.11212796, 0.07125695, 0.06615904,\n",
       "       0.04975388, 0.04272656, 0.02702238, 0.02239966, 0.0194549 ,\n",
       "       0.01750758, 0.01308639])"
      ]
     },
     "execution_count": 59,
     "metadata": {},
     "output_type": "execute_result"
    }
   ],
   "source": [
    "explained_variance_ratio = explained_variance / total\n",
    "explained_variance_ratio"
   ]
  },
  {
   "cell_type": "code",
   "execution_count": 60,
   "metadata": {},
   "outputs": [
    {
     "data": {
      "text/plain": [
       "array([0.36489014, 0.5585047 , 0.67063266, 0.74188961, 0.80804865,\n",
       "       0.85780253, 0.9005291 , 0.92755147, 0.94995113, 0.96940603,\n",
       "       0.98691361, 1.        ])"
      ]
     },
     "execution_count": 60,
     "metadata": {},
     "output_type": "execute_result"
    }
   ],
   "source": [
    "cumulative_explained_variance = np.cumsum(explained_variance_ratio)\n",
    "cumulative_explained_variance"
   ]
  },
  {
   "cell_type": "markdown",
   "metadata": {},
   "source": [
    "### From above cumulative_explained_variance we can see that 92% of data is explained using top 8 of the 13 transformed features.\n",
    "\n",
    "### Therefore top 8 vectors can be used to calculated new_coordinates"
   ]
  },
  {
   "cell_type": "code",
   "execution_count": 73,
   "metadata": {},
   "outputs": [],
   "source": [
    "from scipy.linalg import eigh\n",
    "\n",
    "values_selected, vectors_selected = eigh(covar_matrix, eigvals=(5, 12)) "
   ]
  },
  {
   "cell_type": "code",
   "execution_count": 74,
   "metadata": {},
   "outputs": [
    {
     "data": {
      "text/plain": [
       "array([[ 0.39613926,  0.06582674, -0.17026002,  0.42797018, -0.15636143,\n",
       "        -0.40593409, -0.18724536, -0.23328465,  0.36822675, -0.03379692,\n",
       "         0.43662362, -0.07810789,  0.12002267],\n",
       "       [ 0.05639636, -0.42052391,  0.14917061,  0.28696914, -0.3228833 ,\n",
       "         0.02792498,  0.06068521, -0.59544729, -0.37213935,  0.22771214,\n",
       "        -0.23207564,  0.0447637 , -0.0768045 ],\n",
       "       [ 0.21353865,  0.53681385,  0.15447466, -0.10082451,  0.03814394,\n",
       "        -0.0841223 , -0.01892002, -0.25859401, -0.53379539, -0.41864414,\n",
       "         0.10598274,  0.26585107,  0.11972557],\n",
       "       [ 0.26566365, -0.03521363,  0.14302547, -0.06610294, -0.72704851,\n",
       "         0.14931841,  0.10902584,  0.50070298, -0.13685982,  0.07643678,\n",
       "         0.17361452,  0.10116099,  0.1578688 ],\n",
       "       [-0.0178563 ,  0.53689028, -0.21417556,  0.06085941, -0.35179658,\n",
       "         0.19806835,  0.15229479, -0.20330102,  0.39905653,  0.06592568,\n",
       "        -0.42777141,  0.18412074, -0.23207086],\n",
       "       [-0.20738262,  0.08901289,  0.6262239 ,  0.61208035,  0.13075693,\n",
       "         0.14617896,  0.1506819 ,  0.17036816,  0.14945431, -0.13730621,\n",
       "         0.08522192,  0.16600459, -0.12674592],\n",
       "       [-0.48365155, -0.22493093, -0.31606881,  0.0105905 , -0.299634  ,\n",
       "        -0.06503951,  0.00335981, -0.02877949, -0.03930172, -0.52999567,\n",
       "         0.27923515,  0.16449619, -0.36490283],\n",
       "       [-0.1443294 ,  0.24518758,  0.00205106,  0.23932041, -0.14199204,\n",
       "        -0.39466085, -0.4229343 ,  0.2985331 , -0.31342949,  0.0886167 ,\n",
       "        -0.29671456, -0.37616741, -0.28675223]])"
      ]
     },
     "execution_count": 74,
     "metadata": {},
     "output_type": "execute_result"
    }
   ],
   "source": [
    "vectors_selected.T"
   ]
  },
  {
   "cell_type": "code",
   "execution_count": 75,
   "metadata": {},
   "outputs": [],
   "source": [
    "# Applying transform to vectors\n",
    "\n",
    "vectors_selected = vectors_selected.T"
   ]
  },
  {
   "cell_type": "code",
   "execution_count": 76,
   "metadata": {},
   "outputs": [
    {
     "data": {
      "text/plain": [
       "array([[-0.06513909, -1.02441595,  0.34421613, ..., -0.0470238 ,\n",
       "        -0.39082877,  0.29291373],\n",
       "       [-0.59642655, -0.05377561, -0.42420545, ..., -0.67923541,\n",
       "        -0.63397527, -0.00574126],\n",
       "       [ 0.22388013,  0.92712024, -0.54927605, ..., -0.27306792,\n",
       "        -1.17878298, -0.29609218],\n",
       "       ...,\n",
       "       [-0.16573904, -2.02645737,  0.98281867, ..., -0.94094188,\n",
       "        -0.5506962 ,  1.01391366],\n",
       "       [-1.44346263,  0.33339289, -1.0311513 , ..., -2.76089913,\n",
       "        -2.29734668, -2.76891957],\n",
       "       [-3.31675081, -2.20946492, -2.51674015, ...,  2.67783946,\n",
       "         2.38701709,  3.20875816]])"
      ]
     },
     "execution_count": 76,
     "metadata": {},
     "output_type": "execute_result"
    }
   ],
   "source": [
    "new_coordinates = np.matmul(vectors_selected, features_standardized.T)\n",
    "new_coordinates"
   ]
  },
  {
   "cell_type": "code",
   "execution_count": 77,
   "metadata": {},
   "outputs": [
    {
     "data": {
      "text/html": [
       "<div>\n",
       "<style scoped>\n",
       "    .dataframe tbody tr th:only-of-type {\n",
       "        vertical-align: middle;\n",
       "    }\n",
       "\n",
       "    .dataframe tbody tr th {\n",
       "        vertical-align: top;\n",
       "    }\n",
       "\n",
       "    .dataframe thead th {\n",
       "        text-align: right;\n",
       "    }\n",
       "</style>\n",
       "<table border=\"1\" class=\"dataframe\">\n",
       "  <thead>\n",
       "    <tr style=\"text-align: right;\">\n",
       "      <th></th>\n",
       "      <th>0</th>\n",
       "      <th>1</th>\n",
       "      <th>2</th>\n",
       "      <th>3</th>\n",
       "      <th>4</th>\n",
       "      <th>5</th>\n",
       "      <th>6</th>\n",
       "      <th>7</th>\n",
       "      <th>8</th>\n",
       "      <th>9</th>\n",
       "      <th>...</th>\n",
       "      <th>168</th>\n",
       "      <th>169</th>\n",
       "      <th>170</th>\n",
       "      <th>171</th>\n",
       "      <th>172</th>\n",
       "      <th>173</th>\n",
       "      <th>174</th>\n",
       "      <th>175</th>\n",
       "      <th>176</th>\n",
       "      <th>177</th>\n",
       "    </tr>\n",
       "  </thead>\n",
       "  <tbody>\n",
       "    <tr>\n",
       "      <th>0</th>\n",
       "      <td>-0.065139</td>\n",
       "      <td>-1.024416</td>\n",
       "      <td>0.344216</td>\n",
       "      <td>-0.643593</td>\n",
       "      <td>-0.416700</td>\n",
       "      <td>-0.394893</td>\n",
       "      <td>0.371934</td>\n",
       "      <td>-0.232979</td>\n",
       "      <td>0.499578</td>\n",
       "      <td>-0.150580</td>\n",
       "      <td>...</td>\n",
       "      <td>0.926074</td>\n",
       "      <td>0.294005</td>\n",
       "      <td>-0.582906</td>\n",
       "      <td>-0.676087</td>\n",
       "      <td>0.296516</td>\n",
       "      <td>0.146097</td>\n",
       "      <td>0.552427</td>\n",
       "      <td>-0.047024</td>\n",
       "      <td>-0.390829</td>\n",
       "      <td>0.292914</td>\n",
       "    </tr>\n",
       "    <tr>\n",
       "      <th>1</th>\n",
       "      <td>-0.596427</td>\n",
       "      <td>-0.053776</td>\n",
       "      <td>-0.424205</td>\n",
       "      <td>0.383337</td>\n",
       "      <td>-0.444074</td>\n",
       "      <td>-0.401654</td>\n",
       "      <td>-0.052891</td>\n",
       "      <td>-0.032376</td>\n",
       "      <td>-0.125285</td>\n",
       "      <td>0.874352</td>\n",
       "      <td>...</td>\n",
       "      <td>0.753322</td>\n",
       "      <td>0.930473</td>\n",
       "      <td>0.291849</td>\n",
       "      <td>1.025640</td>\n",
       "      <td>0.829199</td>\n",
       "      <td>-0.958416</td>\n",
       "      <td>-0.146894</td>\n",
       "      <td>-0.679235</td>\n",
       "      <td>-0.633975</td>\n",
       "      <td>-0.005741</td>\n",
       "    </tr>\n",
       "    <tr>\n",
       "      <th>2</th>\n",
       "      <td>0.223880</td>\n",
       "      <td>0.927120</td>\n",
       "      <td>-0.549276</td>\n",
       "      <td>-0.114431</td>\n",
       "      <td>0.406520</td>\n",
       "      <td>-0.123431</td>\n",
       "      <td>0.620121</td>\n",
       "      <td>1.439806</td>\n",
       "      <td>0.129181</td>\n",
       "      <td>-0.163392</td>\n",
       "      <td>...</td>\n",
       "      <td>-0.629568</td>\n",
       "      <td>0.983645</td>\n",
       "      <td>0.395378</td>\n",
       "      <td>-0.857959</td>\n",
       "      <td>-0.680855</td>\n",
       "      <td>1.108788</td>\n",
       "      <td>0.026465</td>\n",
       "      <td>-0.273068</td>\n",
       "      <td>-1.178783</td>\n",
       "      <td>-0.296092</td>\n",
       "    </tr>\n",
       "    <tr>\n",
       "      <th>3</th>\n",
       "      <td>-0.693043</td>\n",
       "      <td>0.257655</td>\n",
       "      <td>0.251033</td>\n",
       "      <td>0.311842</td>\n",
       "      <td>-0.298458</td>\n",
       "      <td>0.632019</td>\n",
       "      <td>1.027762</td>\n",
       "      <td>-0.076903</td>\n",
       "      <td>0.892257</td>\n",
       "      <td>0.468553</td>\n",
       "      <td>...</td>\n",
       "      <td>-0.359874</td>\n",
       "      <td>-1.127997</td>\n",
       "      <td>-0.609095</td>\n",
       "      <td>0.486112</td>\n",
       "      <td>0.701210</td>\n",
       "      <td>0.574164</td>\n",
       "      <td>-0.255063</td>\n",
       "      <td>-1.271355</td>\n",
       "      <td>-0.813955</td>\n",
       "      <td>0.895193</td>\n",
       "    </tr>\n",
       "    <tr>\n",
       "      <th>4</th>\n",
       "      <td>-0.215631</td>\n",
       "      <td>-0.291358</td>\n",
       "      <td>0.724902</td>\n",
       "      <td>0.567983</td>\n",
       "      <td>-0.409766</td>\n",
       "      <td>-0.515637</td>\n",
       "      <td>-0.065831</td>\n",
       "      <td>-1.192608</td>\n",
       "      <td>0.056270</td>\n",
       "      <td>0.349382</td>\n",
       "      <td>...</td>\n",
       "      <td>-0.389593</td>\n",
       "      <td>0.588502</td>\n",
       "      <td>-0.217065</td>\n",
       "      <td>-0.125176</td>\n",
       "      <td>0.018025</td>\n",
       "      <td>1.058527</td>\n",
       "      <td>0.349496</td>\n",
       "      <td>0.312035</td>\n",
       "      <td>-0.688285</td>\n",
       "      <td>0.596903</td>\n",
       "    </tr>\n",
       "    <tr>\n",
       "      <th>5</th>\n",
       "      <td>-0.165739</td>\n",
       "      <td>-2.026457</td>\n",
       "      <td>0.982819</td>\n",
       "      <td>-0.176192</td>\n",
       "      <td>2.026688</td>\n",
       "      <td>-0.629396</td>\n",
       "      <td>-0.977095</td>\n",
       "      <td>0.146282</td>\n",
       "      <td>-1.770969</td>\n",
       "      <td>-0.984247</td>\n",
       "      <td>...</td>\n",
       "      <td>0.763783</td>\n",
       "      <td>1.418044</td>\n",
       "      <td>-0.847129</td>\n",
       "      <td>-1.339420</td>\n",
       "      <td>-0.918781</td>\n",
       "      <td>-0.342570</td>\n",
       "      <td>0.207581</td>\n",
       "      <td>-0.940942</td>\n",
       "      <td>-0.550696</td>\n",
       "      <td>1.013914</td>\n",
       "    </tr>\n",
       "    <tr>\n",
       "      <th>6</th>\n",
       "      <td>-1.443463</td>\n",
       "      <td>0.333393</td>\n",
       "      <td>-1.031151</td>\n",
       "      <td>-2.756372</td>\n",
       "      <td>-0.869831</td>\n",
       "      <td>-2.122401</td>\n",
       "      <td>-1.174850</td>\n",
       "      <td>-1.608963</td>\n",
       "      <td>-0.918071</td>\n",
       "      <td>-0.789438</td>\n",
       "      <td>...</td>\n",
       "      <td>-2.077537</td>\n",
       "      <td>-2.588667</td>\n",
       "      <td>0.251249</td>\n",
       "      <td>-0.847748</td>\n",
       "      <td>-2.193798</td>\n",
       "      <td>-2.216289</td>\n",
       "      <td>-1.757229</td>\n",
       "      <td>-2.760899</td>\n",
       "      <td>-2.297347</td>\n",
       "      <td>-2.768920</td>\n",
       "    </tr>\n",
       "    <tr>\n",
       "      <th>7</th>\n",
       "      <td>-3.316751</td>\n",
       "      <td>-2.209465</td>\n",
       "      <td>-2.516740</td>\n",
       "      <td>-3.757066</td>\n",
       "      <td>-1.008908</td>\n",
       "      <td>-3.050254</td>\n",
       "      <td>-2.449090</td>\n",
       "      <td>-2.059437</td>\n",
       "      <td>-2.510874</td>\n",
       "      <td>-2.753628</td>\n",
       "      <td>...</td>\n",
       "      <td>2.181413</td>\n",
       "      <td>2.380928</td>\n",
       "      <td>3.211617</td>\n",
       "      <td>3.677919</td>\n",
       "      <td>2.465556</td>\n",
       "      <td>3.370524</td>\n",
       "      <td>2.601956</td>\n",
       "      <td>2.677839</td>\n",
       "      <td>2.387017</td>\n",
       "      <td>3.208758</td>\n",
       "    </tr>\n",
       "  </tbody>\n",
       "</table>\n",
       "<p>8 rows × 178 columns</p>\n",
       "</div>"
      ],
      "text/plain": [
       "        0         1         2         3         4         5         6    \\\n",
       "0 -0.065139 -1.024416  0.344216 -0.643593 -0.416700 -0.394893  0.371934   \n",
       "1 -0.596427 -0.053776 -0.424205  0.383337 -0.444074 -0.401654 -0.052891   \n",
       "2  0.223880  0.927120 -0.549276 -0.114431  0.406520 -0.123431  0.620121   \n",
       "3 -0.693043  0.257655  0.251033  0.311842 -0.298458  0.632019  1.027762   \n",
       "4 -0.215631 -0.291358  0.724902  0.567983 -0.409766 -0.515637 -0.065831   \n",
       "5 -0.165739 -2.026457  0.982819 -0.176192  2.026688 -0.629396 -0.977095   \n",
       "6 -1.443463  0.333393 -1.031151 -2.756372 -0.869831 -2.122401 -1.174850   \n",
       "7 -3.316751 -2.209465 -2.516740 -3.757066 -1.008908 -3.050254 -2.449090   \n",
       "\n",
       "        7         8         9      ...          168       169       170  \\\n",
       "0 -0.232979  0.499578 -0.150580    ...     0.926074  0.294005 -0.582906   \n",
       "1 -0.032376 -0.125285  0.874352    ...     0.753322  0.930473  0.291849   \n",
       "2  1.439806  0.129181 -0.163392    ...    -0.629568  0.983645  0.395378   \n",
       "3 -0.076903  0.892257  0.468553    ...    -0.359874 -1.127997 -0.609095   \n",
       "4 -1.192608  0.056270  0.349382    ...    -0.389593  0.588502 -0.217065   \n",
       "5  0.146282 -1.770969 -0.984247    ...     0.763783  1.418044 -0.847129   \n",
       "6 -1.608963 -0.918071 -0.789438    ...    -2.077537 -2.588667  0.251249   \n",
       "7 -2.059437 -2.510874 -2.753628    ...     2.181413  2.380928  3.211617   \n",
       "\n",
       "        171       172       173       174       175       176       177  \n",
       "0 -0.676087  0.296516  0.146097  0.552427 -0.047024 -0.390829  0.292914  \n",
       "1  1.025640  0.829199 -0.958416 -0.146894 -0.679235 -0.633975 -0.005741  \n",
       "2 -0.857959 -0.680855  1.108788  0.026465 -0.273068 -1.178783 -0.296092  \n",
       "3  0.486112  0.701210  0.574164 -0.255063 -1.271355 -0.813955  0.895193  \n",
       "4 -0.125176  0.018025  1.058527  0.349496  0.312035 -0.688285  0.596903  \n",
       "5 -1.339420 -0.918781 -0.342570  0.207581 -0.940942 -0.550696  1.013914  \n",
       "6 -0.847748 -2.193798 -2.216289 -1.757229 -2.760899 -2.297347 -2.768920  \n",
       "7  3.677919  2.465556  3.370524  2.601956  2.677839  2.387017  3.208758  \n",
       "\n",
       "[8 rows x 178 columns]"
      ]
     },
     "execution_count": 77,
     "metadata": {},
     "output_type": "execute_result"
    }
   ],
   "source": [
    "features_transformed = pd.DataFrame(new_coordinates)\n",
    "features_transformed"
   ]
  },
  {
   "cell_type": "code",
   "execution_count": 78,
   "metadata": {},
   "outputs": [
    {
     "data": {
      "text/html": [
       "<div>\n",
       "<style scoped>\n",
       "    .dataframe tbody tr th:only-of-type {\n",
       "        vertical-align: middle;\n",
       "    }\n",
       "\n",
       "    .dataframe tbody tr th {\n",
       "        vertical-align: top;\n",
       "    }\n",
       "\n",
       "    .dataframe thead th {\n",
       "        text-align: right;\n",
       "    }\n",
       "</style>\n",
       "<table border=\"1\" class=\"dataframe\">\n",
       "  <thead>\n",
       "    <tr style=\"text-align: right;\">\n",
       "      <th></th>\n",
       "      <th>0</th>\n",
       "      <th>1</th>\n",
       "      <th>2</th>\n",
       "      <th>3</th>\n",
       "      <th>4</th>\n",
       "      <th>5</th>\n",
       "      <th>6</th>\n",
       "      <th>7</th>\n",
       "    </tr>\n",
       "  </thead>\n",
       "  <tbody>\n",
       "    <tr>\n",
       "      <th>0</th>\n",
       "      <td>-0.065139</td>\n",
       "      <td>-0.596427</td>\n",
       "      <td>0.223880</td>\n",
       "      <td>-0.693043</td>\n",
       "      <td>-0.215631</td>\n",
       "      <td>-0.165739</td>\n",
       "      <td>-1.443463</td>\n",
       "      <td>-3.316751</td>\n",
       "    </tr>\n",
       "    <tr>\n",
       "      <th>1</th>\n",
       "      <td>-1.024416</td>\n",
       "      <td>-0.053776</td>\n",
       "      <td>0.927120</td>\n",
       "      <td>0.257655</td>\n",
       "      <td>-0.291358</td>\n",
       "      <td>-2.026457</td>\n",
       "      <td>0.333393</td>\n",
       "      <td>-2.209465</td>\n",
       "    </tr>\n",
       "    <tr>\n",
       "      <th>2</th>\n",
       "      <td>0.344216</td>\n",
       "      <td>-0.424205</td>\n",
       "      <td>-0.549276</td>\n",
       "      <td>0.251033</td>\n",
       "      <td>0.724902</td>\n",
       "      <td>0.982819</td>\n",
       "      <td>-1.031151</td>\n",
       "      <td>-2.516740</td>\n",
       "    </tr>\n",
       "    <tr>\n",
       "      <th>3</th>\n",
       "      <td>-0.643593</td>\n",
       "      <td>0.383337</td>\n",
       "      <td>-0.114431</td>\n",
       "      <td>0.311842</td>\n",
       "      <td>0.567983</td>\n",
       "      <td>-0.176192</td>\n",
       "      <td>-2.756372</td>\n",
       "      <td>-3.757066</td>\n",
       "    </tr>\n",
       "    <tr>\n",
       "      <th>4</th>\n",
       "      <td>-0.416700</td>\n",
       "      <td>-0.444074</td>\n",
       "      <td>0.406520</td>\n",
       "      <td>-0.298458</td>\n",
       "      <td>-0.409766</td>\n",
       "      <td>2.026688</td>\n",
       "      <td>-0.869831</td>\n",
       "      <td>-1.008908</td>\n",
       "    </tr>\n",
       "  </tbody>\n",
       "</table>\n",
       "</div>"
      ],
      "text/plain": [
       "          0         1         2         3         4         5         6  \\\n",
       "0 -0.065139 -0.596427  0.223880 -0.693043 -0.215631 -0.165739 -1.443463   \n",
       "1 -1.024416 -0.053776  0.927120  0.257655 -0.291358 -2.026457  0.333393   \n",
       "2  0.344216 -0.424205 -0.549276  0.251033  0.724902  0.982819 -1.031151   \n",
       "3 -0.643593  0.383337 -0.114431  0.311842  0.567983 -0.176192 -2.756372   \n",
       "4 -0.416700 -0.444074  0.406520 -0.298458 -0.409766  2.026688 -0.869831   \n",
       "\n",
       "          7  \n",
       "0 -3.316751  \n",
       "1 -2.209465  \n",
       "2 -2.516740  \n",
       "3 -3.757066  \n",
       "4 -1.008908  "
      ]
     },
     "execution_count": 78,
     "metadata": {},
     "output_type": "execute_result"
    }
   ],
   "source": [
    "# Applying Transpose of new_coordinates\n",
    "features_transformed = features_transformed.T\n",
    "features_transformed.head()"
   ]
  },
  {
   "cell_type": "code",
   "execution_count": 79,
   "metadata": {},
   "outputs": [],
   "source": [
    "from sklearn.model_selection import train_test_split\n",
    "# Split your data into training and testing (80% / 20%)\n",
    "x_train, x_test, y_train, y_test = train_test_split(\n",
    "    features_transformed,\n",
    "    target,\n",
    "    random_state=42,\n",
    "    test_size=0.20, shuffle=True\n",
    ")"
   ]
  },
  {
   "cell_type": "code",
   "execution_count": 80,
   "metadata": {},
   "outputs": [
    {
     "name": "stderr",
     "output_type": "stream",
     "text": [
      "/Library/Frameworks/Python.framework/anaconda3/lib/python3.7/site-packages/sklearn/linear_model/logistic.py:433: FutureWarning: Default solver will be changed to 'lbfgs' in 0.22. Specify a solver to silence this warning.\n",
      "  FutureWarning)\n",
      "/Library/Frameworks/Python.framework/anaconda3/lib/python3.7/site-packages/sklearn/linear_model/logistic.py:460: FutureWarning: Default multi_class will be changed to 'auto' in 0.22. Specify the multi_class option to silence this warning.\n",
      "  \"this warning.\", FutureWarning)\n"
     ]
    },
    {
     "data": {
      "text/plain": [
       "array(['Barolo', 'Barolo', 'Barbera', 'Barolo', 'Grignolino', 'Barolo',\n",
       "       'Grignolino', 'Barbera', 'Grignolino', 'Barbera', 'Barolo',\n",
       "       'Barbera', 'Barolo', 'Grignolino', 'Barolo', 'Grignolino',\n",
       "       'Grignolino', 'Grignolino', 'Barolo', 'Grignolino', 'Barolo',\n",
       "       'Grignolino', 'Grignolino', 'Barbera', 'Barbera', 'Barbera',\n",
       "       'Grignolino', 'Grignolino', 'Grignolino', 'Barolo', 'Barolo',\n",
       "       'Grignolino', 'Barbera', 'Barolo', 'Barolo', 'Barolo'],\n",
       "      dtype=object)"
      ]
     },
     "execution_count": 80,
     "metadata": {},
     "output_type": "execute_result"
    }
   ],
   "source": [
    "from sklearn.linear_model import LogisticRegression\n",
    "pca_scratch = LogisticRegression()\n",
    "pca_scratch.fit(x_train, y_train)\n",
    "y_predict = pca_scratch.predict(x_test)\n",
    "y_predict"
   ]
  },
  {
   "cell_type": "code",
   "execution_count": 81,
   "metadata": {},
   "outputs": [
    {
     "data": {
      "text/plain": [
       "array([9.58297286e-01, 8.06739752e-01, 1.02510225e-02, 9.70018346e-01,\n",
       "       1.10033794e-02, 9.13362694e-01, 4.82104990e-03, 1.67187460e-02,\n",
       "       4.28010466e-02, 3.08518874e-02, 6.91545014e-01, 5.21314025e-03,\n",
       "       8.88387978e-01, 4.59949824e-03, 9.64680323e-01, 7.57877741e-03,\n",
       "       8.45701398e-04, 1.48120193e-03, 9.78452366e-01, 5.73851597e-03,\n",
       "       9.76418388e-01, 2.53191695e-01, 2.68949038e-02, 4.66328212e-02,\n",
       "       1.15976471e-03, 7.24056074e-03, 1.71329200e-03, 9.56721481e-02,\n",
       "       1.21092657e-03, 9.55923611e-01, 9.49712136e-01, 6.30694159e-04,\n",
       "       6.28509075e-03, 9.69394172e-01, 9.76800603e-01, 9.82750718e-01])"
      ]
     },
     "execution_count": 81,
     "metadata": {},
     "output_type": "execute_result"
    }
   ],
   "source": [
    "y_predict_proba = pca_scratch.predict_proba(x_test)[:, 1]\n",
    "y_predict_proba"
   ]
  },
  {
   "cell_type": "code",
   "execution_count": 82,
   "metadata": {},
   "outputs": [
    {
     "name": "stdout",
     "output_type": "stream",
     "text": [
      "Accuracy: 100.00%\n",
      "Classification report:\n",
      "\n",
      "               precision    recall  f1-score   support\n",
      "\n",
      "     Barbera       1.00      1.00      1.00         8\n",
      "      Barolo       1.00      1.00      1.00        14\n",
      "  Grignolino       1.00      1.00      1.00        14\n",
      "\n",
      "   micro avg       1.00      1.00      1.00        36\n",
      "   macro avg       1.00      1.00      1.00        36\n",
      "weighted avg       1.00      1.00      1.00        36\n",
      "\n",
      "Training set score: 98.59%\n",
      "Testing set score: 100.00%\n"
     ]
    }
   ],
   "source": [
    "from sklearn.metrics import accuracy_score, confusion_matrix, roc_curve, roc_auc_score, classification_report\n",
    "\n",
    "print('Accuracy: {:.2f}%'.format(accuracy_score(y_test, y_predict) * 100))\n",
    "print('Classification report:\\n\\n', classification_report(y_test, y_predict))\n",
    "print('Training set score: {:.2f}%'.format(pca_scratch.score(x_train, y_train) * 100))\n",
    "print('Testing set score: {:.2f}%'.format(pca_scratch.score(x_test, y_test) * 100))"
   ]
  },
  {
   "cell_type": "markdown",
   "metadata": {},
   "source": [
    "---\n",
    "### PCA using Scikit-Learn:\n",
    "### Using n_components = 13, 8, 5"
   ]
  },
  {
   "cell_type": "code",
   "execution_count": 50,
   "metadata": {},
   "outputs": [
    {
     "data": {
      "text/plain": [
       "array([[ 3.31675081, -1.44346263, -0.16573904, ..., -0.22388013,\n",
       "         0.59642655,  0.06513909],\n",
       "       [ 2.20946492,  0.33339289, -2.02645737, ..., -0.92712024,\n",
       "         0.05377561,  1.02441595],\n",
       "       [ 2.51674015, -1.0311513 ,  0.98281867, ...,  0.54927605,\n",
       "         0.42420545, -0.34421613],\n",
       "       ...,\n",
       "       [-2.67783946, -2.76089913, -0.94094188, ...,  0.27306792,\n",
       "         0.67923541,  0.0470238 ],\n",
       "       [-2.38701709, -2.29734668, -0.5506962 , ...,  1.17878298,\n",
       "         0.63397527,  0.39082877],\n",
       "       [-3.20875816, -2.76891957,  1.01391366, ...,  0.29609218,\n",
       "         0.00574126, -0.29291373]])"
      ]
     },
     "execution_count": 50,
     "metadata": {},
     "output_type": "execute_result"
    }
   ],
   "source": [
    "from sklearn.decomposition import PCA\n",
    "# PCA using 13 features\n",
    "pca13 = PCA()\n",
    "features_pca13 = pca13.fit_transform(features_transformed)\n",
    "features_pca13"
   ]
  },
  {
   "cell_type": "code",
   "execution_count": 52,
   "metadata": {},
   "outputs": [
    {
     "data": {
      "text/plain": [
       "array([4.73243698, 2.51108093, 1.45424187, 0.92416587, 0.85804868,\n",
       "       0.64528221, 0.55414147, 0.35046627])"
      ]
     },
     "execution_count": 52,
     "metadata": {},
     "output_type": "execute_result"
    }
   ],
   "source": [
    "pca13.explained_variance_"
   ]
  },
  {
   "cell_type": "code",
   "execution_count": 22,
   "metadata": {},
   "outputs": [
    {
     "data": {
      "text/plain": [
       "array([[ 3.31675081, -1.44346263, -0.16573904, ..., -0.22388013,\n",
       "         0.59642655,  0.06513909],\n",
       "       [ 2.20946492,  0.33339289, -2.02645737, ..., -0.92712024,\n",
       "         0.05377561,  1.02441595],\n",
       "       [ 2.51674015, -1.0311513 ,  0.98281867, ...,  0.54927605,\n",
       "         0.42420545, -0.34421613],\n",
       "       ...,\n",
       "       [-2.67783946, -2.76089913, -0.94094188, ...,  0.27306792,\n",
       "         0.67923541,  0.0470238 ],\n",
       "       [-2.38701709, -2.29734668, -0.5506962 , ...,  1.17878298,\n",
       "         0.63397527,  0.39082877],\n",
       "       [-3.20875816, -2.76891957,  1.01391366, ...,  0.29609218,\n",
       "         0.00574126, -0.29291373]])"
      ]
     },
     "execution_count": 22,
     "metadata": {},
     "output_type": "execute_result"
    }
   ],
   "source": [
    "pca8 = PCA(n_components=8)\n",
    "features_pca8 = pca8.fit_transform(features_transformed)\n",
    "features_pca8"
   ]
  },
  {
   "cell_type": "code",
   "execution_count": 23,
   "metadata": {},
   "outputs": [
    {
     "data": {
      "text/plain": [
       "array([[ 3.31675081, -1.44346263, -0.16573904, ..., -0.22388013,\n",
       "         0.59642655,  0.06513909],\n",
       "       [ 2.20946492,  0.33339289, -2.02645737, ..., -0.92712024,\n",
       "         0.05377561,  1.02441595],\n",
       "       [ 2.51674015, -1.0311513 ,  0.98281867, ...,  0.54927605,\n",
       "         0.42420545, -0.34421613],\n",
       "       ...,\n",
       "       [-2.67783946, -2.76089913, -0.94094188, ...,  0.27306792,\n",
       "         0.67923541,  0.0470238 ],\n",
       "       [-2.38701709, -2.29734668, -0.5506962 , ...,  1.17878298,\n",
       "         0.63397527,  0.39082877],\n",
       "       [-3.20875816, -2.76891957,  1.01391366, ...,  0.29609218,\n",
       "         0.00574126, -0.29291373]])"
      ]
     },
     "execution_count": 23,
     "metadata": {},
     "output_type": "execute_result"
    }
   ],
   "source": [
    "pca5 = PCA(n_components=5)\n",
    "features_pca5 = pca8.fit_transform(features_transformed)\n",
    "features_pca5"
   ]
  },
  {
   "cell_type": "code",
   "execution_count": 44,
   "metadata": {},
   "outputs": [
    {
     "data": {
      "text/plain": [
       "0.3619884809992628"
      ]
     },
     "execution_count": 44,
     "metadata": {},
     "output_type": "execute_result"
    }
   ],
   "source": [
    "lambda_list = list(pca13.explained_variance_)\n",
    "\n",
    "lambda_list[0]/ sum(lambda_list)"
   ]
  },
  {
   "cell_type": "code",
   "execution_count": 24,
   "metadata": {},
   "outputs": [
    {
     "data": {
      "text/plain": [
       "array([0.36198848, 0.1920749 , 0.11123631, 0.0706903 , 0.06563294,\n",
       "       0.04935823, 0.04238679, 0.02680749, 0.02222153, 0.01930019,\n",
       "       0.01736836, 0.01298233, 0.00795215])"
      ]
     },
     "execution_count": 24,
     "metadata": {},
     "output_type": "execute_result"
    }
   ],
   "source": [
    "pca13.explained_variance_ratio_"
   ]
  },
  {
   "cell_type": "code",
   "execution_count": 25,
   "metadata": {},
   "outputs": [
    {
     "data": {
      "text/plain": [
       "array([0.36198848, 0.55406338, 0.66529969, 0.73598999, 0.80162293,\n",
       "       0.85098116, 0.89336795, 0.92017544, 0.94239698, 0.96169717,\n",
       "       0.97906553, 0.99204785, 1.        ])"
      ]
     },
     "execution_count": 25,
     "metadata": {},
     "output_type": "execute_result"
    }
   ],
   "source": [
    "# Cumulative Sum of explained Variance\n",
    "np.cumsum(pca13.explained_variance_ratio_)"
   ]
  },
  {
   "cell_type": "code",
   "execution_count": 26,
   "metadata": {},
   "outputs": [
    {
     "data": {
      "text/plain": [
       "Text(0.5,1,'Elbow Curve')"
      ]
     },
     "execution_count": 26,
     "metadata": {},
     "output_type": "execute_result"
    },
    {
     "data": {
      "image/png": "[encoded data removed]",
      "text/plain": [
       "<Figure size 432x288 with 1 Axes>"
      ]
     },
     "metadata": {
      "needs_background": "light"
     },
     "output_type": "display_data"
    }
   ],
   "source": [
    "plt.plot(pca13.explained_variance_ratio_)\n",
    "plt.xlim(0,13,1)\n",
    "plt.xlabel('Number of components')\n",
    "plt.ylabel('Explained variance')\n",
    "plt.title('Elbow Curve')"
   ]
  },
  {
   "cell_type": "code",
   "execution_count": 27,
   "metadata": {},
   "outputs": [
    {
     "data": {
      "text/plain": [
       "Text(0,0.5,'Cumulative explained variance')"
      ]
     },
     "execution_count": 27,
     "metadata": {},
     "output_type": "execute_result"
    },
    {
     "data": {
      "image/png": "[encoded data removed]",
      "text/plain": [
       "<Figure size 432x288 with 1 Axes>"
      ]
     },
     "metadata": {
      "needs_background": "light"
     },
     "output_type": "display_data"
    }
   ],
   "source": [
    "plt.plot(np.cumsum(pca13.explained_variance_ratio_))\n",
    "plt.xlim(0,13,1)\n",
    "plt.xlabel('Number of components')\n",
    "plt.ylabel('Cumulative explained variance')"
   ]
  },
  {
   "cell_type": "markdown",
   "metadata": {},
   "source": [
    "---\n",
    "## Logistic Regression Analysis:"
   ]
  },
  {
   "cell_type": "markdown",
   "metadata": {},
   "source": [
    "### Basic Logistic Regression withut PCA:"
   ]
  },
  {
   "cell_type": "code",
   "execution_count": 28,
   "metadata": {},
   "outputs": [],
   "source": [
    "from sklearn.model_selection import train_test_split\n",
    "# Split your data into training and testing (80% / 20%)\n",
    "x_train, x_test, y_train, y_test = train_test_split(\n",
    "    features,\n",
    "    target,\n",
    "    random_state=42,\n",
    "    test_size=0.20, shuffle=True\n",
    ")"
   ]
  },
  {
   "cell_type": "code",
   "execution_count": 29,
   "metadata": {},
   "outputs": [
    {
     "name": "stderr",
     "output_type": "stream",
     "text": [
      "/Library/Frameworks/Python.framework/anaconda3/lib/python3.7/site-packages/sklearn/linear_model/logistic.py:433: FutureWarning: Default solver will be changed to 'lbfgs' in 0.22. Specify a solver to silence this warning.\n",
      "  FutureWarning)\n",
      "/Library/Frameworks/Python.framework/anaconda3/lib/python3.7/site-packages/sklearn/linear_model/logistic.py:460: FutureWarning: Default multi_class will be changed to 'auto' in 0.22. Specify the multi_class option to silence this warning.\n",
      "  \"this warning.\", FutureWarning)\n"
     ]
    },
    {
     "data": {
      "text/plain": [
       "array(['Barolo', 'Barolo', 'Barbera', 'Barolo', 'Grignolino', 'Barolo',\n",
       "       'Grignolino', 'Barbera', 'Grignolino', 'Barbera', 'Grignolino',\n",
       "       'Barbera', 'Barolo', 'Grignolino', 'Barolo', 'Grignolino',\n",
       "       'Grignolino', 'Grignolino', 'Barolo', 'Grignolino', 'Barolo',\n",
       "       'Grignolino', 'Grignolino', 'Barbera', 'Barbera', 'Barbera',\n",
       "       'Grignolino', 'Grignolino', 'Grignolino', 'Barolo', 'Barolo',\n",
       "       'Grignolino', 'Barbera', 'Barolo', 'Barolo', 'Barolo'],\n",
       "      dtype=object)"
      ]
     },
     "execution_count": 29,
     "metadata": {},
     "output_type": "execute_result"
    }
   ],
   "source": [
    "from sklearn.linear_model import LogisticRegression\n",
    "log_reg = LogisticRegression()\n",
    "log_reg.fit(x_train, y_train)\n",
    "y_predict = log_reg.predict(x_test)\n",
    "y_predict"
   ]
  },
  {
   "cell_type": "code",
   "execution_count": 30,
   "metadata": {},
   "outputs": [],
   "source": [
    "y_predict_proba = log_reg.predict_proba(x_test)[:, 1]"
   ]
  },
  {
   "cell_type": "code",
   "execution_count": 31,
   "metadata": {},
   "outputs": [
    {
     "data": {
      "text/plain": [
       "0.9722222222222222"
      ]
     },
     "execution_count": 31,
     "metadata": {},
     "output_type": "execute_result"
    }
   ],
   "source": [
    "log_reg.score(x_test, y_test)"
   ]
  },
  {
   "cell_type": "code",
   "execution_count": 32,
   "metadata": {},
   "outputs": [
    {
     "name": "stdout",
     "output_type": "stream",
     "text": [
      "Accuracy: 97.22%\n",
      "Classification report:\n",
      "\n",
      "               precision    recall  f1-score   support\n",
      "\n",
      "     Barbera       1.00      1.00      1.00         8\n",
      "      Barolo       1.00      0.93      0.96        14\n",
      "  Grignolino       0.93      1.00      0.97        14\n",
      "\n",
      "   micro avg       0.97      0.97      0.97        36\n",
      "   macro avg       0.98      0.98      0.98        36\n",
      "weighted avg       0.97      0.97      0.97        36\n",
      "\n",
      "Training set score: 96.48%\n",
      "Testing set score: 97.22%\n"
     ]
    }
   ],
   "source": [
    "from sklearn.metrics import accuracy_score, confusion_matrix, roc_curve, roc_auc_score, classification_report\n",
    "\n",
    "print('Accuracy: {:.2f}%'.format(accuracy_score(y_test, y_predict) * 100))\n",
    "print('Classification report:\\n\\n', classification_report(y_test, y_predict))\n",
    "print('Training set score: {:.2f}%'.format(log_reg.score(x_train, y_train) * 100))\n",
    "print('Testing set score: {:.2f}%'.format(log_reg.score(x_test, y_test) * 100))"
   ]
  },
  {
   "cell_type": "markdown",
   "metadata": {},
   "source": [
    "## Logistic Regression using PCA:"
   ]
  },
  {
   "cell_type": "markdown",
   "metadata": {},
   "source": [
    "### Using n_components = 8"
   ]
  },
  {
   "cell_type": "code",
   "execution_count": 33,
   "metadata": {},
   "outputs": [],
   "source": [
    "# Split your data into training and testing (80% / 20%)\n",
    "x_train, x_test, y_train, y_test = train_test_split(\n",
    "    features_pca8,\n",
    "    target,\n",
    "    random_state=42,\n",
    "    test_size=0.20, shuffle=True\n",
    ")"
   ]
  },
  {
   "cell_type": "code",
   "execution_count": 34,
   "metadata": {},
   "outputs": [
    {
     "name": "stderr",
     "output_type": "stream",
     "text": [
      "/Library/Frameworks/Python.framework/anaconda3/lib/python3.7/site-packages/sklearn/linear_model/logistic.py:433: FutureWarning: Default solver will be changed to 'lbfgs' in 0.22. Specify a solver to silence this warning.\n",
      "  FutureWarning)\n",
      "/Library/Frameworks/Python.framework/anaconda3/lib/python3.7/site-packages/sklearn/linear_model/logistic.py:460: FutureWarning: Default multi_class will be changed to 'auto' in 0.22. Specify the multi_class option to silence this warning.\n",
      "  \"this warning.\", FutureWarning)\n"
     ]
    },
    {
     "data": {
      "text/plain": [
       "array(['Barolo', 'Barolo', 'Barbera', 'Barolo', 'Grignolino', 'Barolo',\n",
       "       'Grignolino', 'Barbera', 'Grignolino', 'Barbera', 'Barolo',\n",
       "       'Barbera', 'Barolo', 'Grignolino', 'Barolo', 'Grignolino',\n",
       "       'Grignolino', 'Grignolino', 'Barolo', 'Grignolino', 'Barolo',\n",
       "       'Grignolino', 'Grignolino', 'Barbera', 'Barbera', 'Barbera',\n",
       "       'Grignolino', 'Grignolino', 'Grignolino', 'Barolo', 'Barolo',\n",
       "       'Grignolino', 'Barbera', 'Barolo', 'Barolo', 'Barolo'],\n",
       "      dtype=object)"
      ]
     },
     "execution_count": 34,
     "metadata": {},
     "output_type": "execute_result"
    }
   ],
   "source": [
    "pca8 = LogisticRegression()\n",
    "pca8.fit(x_train, y_train)\n",
    "y_predict = pca8.predict(x_test)\n",
    "y_predict"
   ]
  },
  {
   "cell_type": "code",
   "execution_count": 35,
   "metadata": {},
   "outputs": [],
   "source": [
    "y_predict_proba = pca8.predict_proba(x_test)[:, 1]"
   ]
  },
  {
   "cell_type": "code",
   "execution_count": 36,
   "metadata": {},
   "outputs": [
    {
     "data": {
      "text/plain": [
       "1.0"
      ]
     },
     "execution_count": 36,
     "metadata": {},
     "output_type": "execute_result"
    }
   ],
   "source": [
    "pca8.score(x_test, y_test)"
   ]
  },
  {
   "cell_type": "code",
   "execution_count": 37,
   "metadata": {},
   "outputs": [
    {
     "name": "stdout",
     "output_type": "stream",
     "text": [
      "Accuracy: 100.00%\n",
      "Classification report:\n",
      "\n",
      "               precision    recall  f1-score   support\n",
      "\n",
      "     Barbera       1.00      1.00      1.00         8\n",
      "      Barolo       1.00      1.00      1.00        14\n",
      "  Grignolino       1.00      1.00      1.00        14\n",
      "\n",
      "   micro avg       1.00      1.00      1.00        36\n",
      "   macro avg       1.00      1.00      1.00        36\n",
      "weighted avg       1.00      1.00      1.00        36\n",
      "\n",
      "Training set score: 98.59%\n",
      "Testing set score: 100.00%\n"
     ]
    }
   ],
   "source": [
    "print('Accuracy: {:.2f}%'.format(accuracy_score(y_test, y_predict) * 100))\n",
    "print('Classification report:\\n\\n', classification_report(y_test, y_predict))\n",
    "print('Training set score: {:.2f}%'.format(pca8.score(x_train, y_train) * 100))\n",
    "print('Testing set score: {:.2f}%'.format(pca8.score(x_test, y_test) * 100))"
   ]
  },
  {
   "cell_type": "markdown",
   "metadata": {},
   "source": [
    "### Using n_components=5"
   ]
  },
  {
   "cell_type": "code",
   "execution_count": 38,
   "metadata": {},
   "outputs": [],
   "source": [
    "# Split your data into training and testing (80% / 20%)\n",
    "x_train, x_test, y_train, y_test = train_test_split(\n",
    "    features_pca5,\n",
    "    target,\n",
    "    random_state=42,\n",
    "    test_size=0.20, shuffle=True\n",
    ")"
   ]
  },
  {
   "cell_type": "code",
   "execution_count": 39,
   "metadata": {},
   "outputs": [
    {
     "name": "stderr",
     "output_type": "stream",
     "text": [
      "/Library/Frameworks/Python.framework/anaconda3/lib/python3.7/site-packages/sklearn/linear_model/logistic.py:433: FutureWarning: Default solver will be changed to 'lbfgs' in 0.22. Specify a solver to silence this warning.\n",
      "  FutureWarning)\n",
      "/Library/Frameworks/Python.framework/anaconda3/lib/python3.7/site-packages/sklearn/linear_model/logistic.py:460: FutureWarning: Default multi_class will be changed to 'auto' in 0.22. Specify the multi_class option to silence this warning.\n",
      "  \"this warning.\", FutureWarning)\n"
     ]
    },
    {
     "data": {
      "text/plain": [
       "array(['Barolo', 'Barolo', 'Barbera', 'Barolo', 'Grignolino', 'Barolo',\n",
       "       'Grignolino', 'Barbera', 'Grignolino', 'Barbera', 'Barolo',\n",
       "       'Barbera', 'Barolo', 'Grignolino', 'Barolo', 'Grignolino',\n",
       "       'Grignolino', 'Grignolino', 'Barolo', 'Grignolino', 'Barolo',\n",
       "       'Grignolino', 'Grignolino', 'Barbera', 'Barbera', 'Barbera',\n",
       "       'Grignolino', 'Grignolino', 'Grignolino', 'Barolo', 'Barolo',\n",
       "       'Grignolino', 'Barbera', 'Barolo', 'Barolo', 'Barolo'],\n",
       "      dtype=object)"
      ]
     },
     "execution_count": 39,
     "metadata": {},
     "output_type": "execute_result"
    }
   ],
   "source": [
    "pca5 = LogisticRegression()\n",
    "pca5.fit(x_train, y_train)\n",
    "y_predict = pca5.predict(x_test)\n",
    "y_predict"
   ]
  },
  {
   "cell_type": "code",
   "execution_count": 40,
   "metadata": {},
   "outputs": [],
   "source": [
    "y_predict_proba = pca5.predict_proba(x_test)[:, 1]"
   ]
  },
  {
   "cell_type": "code",
   "execution_count": 41,
   "metadata": {},
   "outputs": [
    {
     "name": "stdout",
     "output_type": "stream",
     "text": [
      "Accuracy: 100.00%\n",
      "Classification report:\n",
      "\n",
      "               precision    recall  f1-score   support\n",
      "\n",
      "     Barbera       1.00      1.00      1.00         8\n",
      "      Barolo       1.00      1.00      1.00        14\n",
      "  Grignolino       1.00      1.00      1.00        14\n",
      "\n",
      "   micro avg       1.00      1.00      1.00        36\n",
      "   macro avg       1.00      1.00      1.00        36\n",
      "weighted avg       1.00      1.00      1.00        36\n",
      "\n",
      "Training set score: 98.59%\n",
      "Testing set score: 100.00%\n"
     ]
    }
   ],
   "source": [
    "print('Accuracy: {:.2f}%'.format(accuracy_score(y_test, y_predict) * 100))\n",
    "print('Classification report:\\n\\n', classification_report(y_test, y_predict))\n",
    "print('Training set score: {:.2f}%'.format(pca5.score(x_train, y_train) * 100))\n",
    "print('Testing set score: {:.2f}%'.format(pca5.score(x_test, y_test) * 100))"
   ]
  },
  {
   "cell_type": "markdown",
   "metadata": {},
   "source": [
    "---\n",
    "### Final Inferences:\n",
    "\n",
    "***The Logistic Regression module without PCA has a classification accuracy of 97% and average F1-score of 97%.***\n",
    "\n",
    "***The The Logistic Regression module with PCA has a classification accuracy of 100% and average F1-score of 100%.***\n",
    "\n",
    "---"
   ]
  },
  {
   "cell_type": "code",
   "execution_count": null,
   "metadata": {},
   "outputs": [],
   "source": []
  }
 ],
 "metadata": {
  "kernelspec": {
   "display_name": "Python 3",
   "language": "python",
   "name": "python3"
  },
  "language_info": {
   "codemirror_mode": {
    "name": "ipython",
    "version": 3
   },
   "file_extension": ".py",
   "mimetype": "text/x-python",
   "name": "python",
   "nbconvert_exporter": "python",
   "pygments_lexer": "ipython3",
   "version": "3.7.2"
  }
 },
 "nbformat": 4,
 "nbformat_minor": 2
}
